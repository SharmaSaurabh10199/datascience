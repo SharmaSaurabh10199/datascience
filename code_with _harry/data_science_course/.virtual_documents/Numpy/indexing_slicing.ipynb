import numpy as np 



array= np.array([[1,2,3],[4,5,6],[7,8,9],[10,11,12]])


flat=array.flatten()


flat


flat[0]


flat[:3] # same as flat[0:3]


## evaery second elemmt 
flat[::2]


## slicing in numpy 
#note: slicing in numpy returns a view, not a copy
# which is not in the case of list 
print(flat)
b=flat[4:6]

len(b)


b[0]=78


flat


## we can use a copy instead 
c=flat[4:6].copy()


c[0]=90


flat


## Exercises 
# create a 3*3 array with random in
arr=np.random.rand(3,4)


arr


arr.shape



arr1=np.array([1.1, 2.2, 3.6])


arr1


flot_array= arr1.astype(int)
flot_array


# fancy indexing 
nums=np.array([1, 2, 3, 4, 5, 6])


nums[nums%2==0]



