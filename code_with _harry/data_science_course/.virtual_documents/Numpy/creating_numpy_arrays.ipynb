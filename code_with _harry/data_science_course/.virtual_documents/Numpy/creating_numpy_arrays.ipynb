import numpy as np


np.zeros((3,3))


np.ones((3,3))


np.full((4,6),10)


# identity matrix 
np.eye(4)


np.arange(1,89,3)


# linspace : arrays with equal space
np.linspace(1,400,10)



array= np.array([[1,2,3],[3,4,5],[6,7,8]])


array.shape


array.size



array.ndim


array.dtype



array.flatten()


# reshaping 
array.reshape((3,3))
