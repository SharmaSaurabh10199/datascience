import numpy as np 


# using string datatype in numpy 
arrstr=np.array(['kalu','madari','swarnika'],dtype='str')


arrstr


# complex numbers 
arr_complex= np.array([1+6j,2+5j],dtype='complex64')


arr_complex


# object as datatype 
arr_objects=np.array([[1,2,3],{'as':2}],dtype='object')



