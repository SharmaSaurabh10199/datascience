{
 "cells": [
  {
   "cell_type": "code",
   "execution_count": 2,
   "id": "5b80569a-d89f-4959-813f-a9e5d6a200b2",
   "metadata": {},
   "outputs": [],
   "source": [
    "## read the json file \n",
    "import json \n",
    "def load_data():\n",
    "    with open(\"codebook_data.json\",'r') as file:\n",
    "        return json.load(file)\n",
    "\n",
    "    "
   ]
  },
  {
   "cell_type": "code",
   "execution_count": 3,
   "id": "5891cf09-f8ac-40b3-b9c3-fbea77c78b0a",
   "metadata": {},
   "outputs": [],
   "source": [
    "data=load_data()"
   ]
  },
  {
   "cell_type": "code",
   "execution_count": 5,
   "id": "269f9118-1f5a-4881-af65-553cff6f8336",
   "metadata": {},
   "outputs": [
    {
     "data": {
      "text/plain": [
       "{'users': [{'id': 1, 'name': 'Amit', 'friends': [2, 3], 'liked_pages': [101]},\n",
       "  {'id': 2, 'name': 'Priya', 'friends': [1, 4], 'liked_pages': [102]},\n",
       "  {'id': 3, 'name': 'Rahul', 'friends': [1], 'liked_pages': [101, 103]},\n",
       "  {'id': 4, 'name': 'Sara', 'friends': [2], 'liked_pages': [104]}],\n",
       " 'pages': [{'id': 101, 'name': 'Python Developers'},\n",
       "  {'id': 102, 'name': 'Data Science Enthusiasts'},\n",
       "  {'id': 103, 'name': 'AI & ML Community'},\n",
       "  {'id': 104, 'name': 'Web Dev Hub'}]}"
      ]
     },
     "execution_count": 5,
     "metadata": {},
     "output_type": "execute_result"
    }
   ],
   "source": [
    "data"
   ]
  },
  {
   "cell_type": "code",
   "execution_count": 8,
   "id": "7a83c13a-d3ee-4682-8cc7-8aa2f44b145f",
   "metadata": {},
   "outputs": [],
   "source": [
    "## display the data in user friendly manner:\n",
    "\n",
    "#Amit (ID: 1) - Friends: [2, 3] - Liked Pages: [101]\n",
    "# 101: Python Developers\n",
    "def display_data(data):\n",
    "    # users\n",
    "    print(\"Users and Their Connections:\")\n",
    "    for user in data['users']:       \n",
    "        print(f\"{user['name']} (ID: {user['id']}) - Freinds: {user['friends']} - Linked Pages: {user['liked_pages']}\")\n",
    "    # pages \n",
    "    print('Pages:')    \n",
    "    for page in data['pages']:\n",
    "        print(f\"{page['id']} : {page['name']}\" )\n",
    "      "
   ]
  },
  {
   "cell_type": "code",
   "execution_count": 7,
   "id": "5e90d039-41e3-4744-be48-9a8f196a6ca2",
   "metadata": {},
   "outputs": [
    {
     "name": "stdout",
     "output_type": "stream",
     "text": [
      "Users and Their Connections:\n",
      "Amit (ID: 1) - Freinds: [2, 3] - Linked Pages: [101]\n",
      "Priya (ID: 2) - Freinds: [1, 4] - Linked Pages: [102]\n",
      "Rahul (ID: 3) - Freinds: [1] - Linked Pages: [101, 103]\n",
      "Sara (ID: 4) - Freinds: [2] - Linked Pages: [104]\n",
      "Pages:\n",
      "101 : page['name']\n",
      "102 : page['name']\n",
      "103 : page['name']\n",
      "104 : page['name']\n"
     ]
    }
   ],
   "source": [
    "display_data(data)"
   ]
  },
  {
   "cell_type": "code",
   "execution_count": null,
   "id": "bfcf07ca-4969-4e34-a5c5-6ae89358f616",
   "metadata": {},
   "outputs": [],
   "source": []
  }
 ],
 "metadata": {
  "kernelspec": {
   "display_name": "Python [conda env:base] *",
   "language": "python",
   "name": "conda-base-py"
  },
  "language_info": {
   "codemirror_mode": {
    "name": "ipython",
    "version": 3
   },
   "file_extension": ".py",
   "mimetype": "text/x-python",
   "name": "python",
   "nbconvert_exporter": "python",
   "pygments_lexer": "ipython3",
   "version": "3.12.7"
  }
 },
 "nbformat": 4,
 "nbformat_minor": 5
}
