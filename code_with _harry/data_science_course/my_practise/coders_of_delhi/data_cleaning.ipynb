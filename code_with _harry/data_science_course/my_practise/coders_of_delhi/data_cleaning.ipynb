{
 "cells": [
  {
   "cell_type": "code",
   "execution_count": 4,
   "id": "8b41df55-1fb0-4b7a-8efd-655168ed1eb4",
   "metadata": {},
   "outputs": [],
   "source": [
    "import json \n",
    "def load_data():\n",
    "    with open(\"codebook_data_messy.json\",'r') as file:\n",
    "        return json.load(file)"
   ]
  },
  {
   "cell_type": "code",
   "execution_count": 5,
   "id": "050c114f-db5c-45f5-b066-8e5b2f2a0b0f",
   "metadata": {},
   "outputs": [],
   "source": [
    "dirty_data= load_data()"
   ]
  },
  {
   "cell_type": "code",
   "execution_count": 18,
   "id": "99bf7675-3116-4eb1-ae3e-1cd588e6de78",
   "metadata": {},
   "outputs": [
    {
     "data": {
      "text/plain": [
       "{'users': [{'id': 1, 'name': 'Amit', 'friends': [2, 3], 'liked_pages': [101]},\n",
       "  {'id': 2, 'name': 'Priya', 'friends': [1, 4], 'liked_pages': [102]},\n",
       "  {'id': 3, 'name': '', 'friends': [1], 'liked_pages': [101, 103]},\n",
       "  {'id': 4, 'name': 'Sara', 'friends': [2, 2], 'liked_pages': [104]},\n",
       "  {'id': 5, 'name': 'Amit', 'friends': [], 'liked_pages': []}],\n",
       " 'pages': [{'id': 101, 'name': 'Python Developers'},\n",
       "  {'id': 102, 'name': 'Data Science Enthusiasts'},\n",
       "  {'id': 103, 'name': 'AI & ML Community'},\n",
       "  {'id': 104, 'name': 'Web Dev Hub'},\n",
       "  {'id': 104, 'name': 'Web Development'}]}"
      ]
     },
     "execution_count": 18,
     "metadata": {},
     "output_type": "execute_result"
    }
   ],
   "source": [
    "dirty_data"
   ]
  },
  {
   "cell_type": "code",
   "execution_count": 27,
   "id": "96108ba9-1d59-403a-ae9f-cd0cbc251648",
   "metadata": {},
   "outputs": [],
   "source": [
    "## Tasks to do: \n",
    "\"\"\"\n",
    "Remove users with missing names.\n",
    "Remove duplicate friend entries.\n",
    "Remove inactive users (users with no friends and no liked pages).\n",
    "Deduplicate pages based on IDs.\n",
    "\"\"\"\n",
    "\n",
    "def clean_data(data):\n",
    "    #remove the users with minning names:\n",
    "    for user in data['users']:\n",
    "        # remove duplicate friends \n",
    "        user['friends']= list(set(user['friends']))\n",
    "        \n",
    "        if ((user['name']=='') or (len(user['friends'])==0 and len(user['liked_pages'])==0)):\n",
    "            # remove this item\n",
    "            data['users'].remove(user)\n",
    "     \n",
    "       \n",
    "        #------------------- modified logic -------\n",
    "    # remove empty name values:\n",
    "    #data['users']= [user for user in data['users'] if user['name']]\n",
    "    \n",
    "    # remove the duplicates from the pages: \n",
    "    dict={}\n",
    "    for page in data['pages']:\n",
    "        dict[page['id']]=page['name']\n",
    "        \n",
    "    data['pages']= list(dict.items())   \n",
    "\n",
    "    return data\n",
    "        \n",
    "        \n"
   ]
  },
  {
   "cell_type": "code",
   "execution_count": 30,
   "id": "97085e4b-6cdf-414d-9405-270faeca549a",
   "metadata": {},
   "outputs": [],
   "source": [
    "cleaned_data= clean_data(dirty_data)"
   ]
  },
  {
   "cell_type": "code",
   "execution_count": 31,
   "id": "07aabe11-56cf-4c6d-bc3d-2fb151068282",
   "metadata": {},
   "outputs": [
    {
     "data": {
      "text/plain": [
       "{'users': [{'id': 1, 'name': 'Amit', 'friends': [2, 3], 'liked_pages': [101]},\n",
       "  {'id': 2, 'name': 'Priya', 'friends': [1, 4], 'liked_pages': [102]},\n",
       "  {'id': 4, 'name': 'Sara', 'friends': [2, 2], 'liked_pages': [104]}],\n",
       " 'pages': [(101, 'Python Developers'),\n",
       "  (102, 'Data Science Enthusiasts'),\n",
       "  (103, 'AI & ML Community'),\n",
       "  (104, 'Web Development')]}"
      ]
     },
     "execution_count": 31,
     "metadata": {},
     "output_type": "execute_result"
    }
   ],
   "source": [
    "cleaned_data"
   ]
  }
 ],
 "metadata": {
  "kernelspec": {
   "display_name": "Python [conda env:base] *",
   "language": "python",
   "name": "conda-base-py"
  },
  "language_info": {
   "codemirror_mode": {
    "name": "ipython",
    "version": 3
   },
   "file_extension": ".py",
   "mimetype": "text/x-python",
   "name": "python",
   "nbconvert_exporter": "python",
   "pygments_lexer": "ipython3",
   "version": "3.12.7"
  }
 },
 "nbformat": 4,
 "nbformat_minor": 5
}
