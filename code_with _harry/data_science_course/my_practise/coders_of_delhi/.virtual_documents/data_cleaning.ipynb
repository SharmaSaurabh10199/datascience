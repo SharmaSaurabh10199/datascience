import json 
def load_data():
    with open("codebook_data_messy.json",'r') as file:
        return json.load(file)


dirty_data= load_data()


dirty_data


## Tasks to do: 
"""
Remove users with missing names.
Remove duplicate friend entries.
Remove inactive users (users with no friends and no liked pages).
Deduplicate pages based on IDs.
"""

def clean_data(data):
    #remove the users with minning names:
    for user in data['users']:
        # remove duplicate friends 
        user['friends']= list(set(user['friends']))
        
        if ((user['name']=='') or (len(user['friends'])==0 and len(user['liked_pages'])==0)):
            # remove this item
            data['users'].remove(user)
     
       
        #------------------- modified logic -------
    # remove empty name values:
    #data['users']= [user for user in data['users'] if user['name']]
    
    # remove the duplicates from the pages: 
    dict={}
    for page in data['pages']:
        dict[page['id']]=page['name']
        
    data['pages']= list(dict.items())   

    return data
        
        



cleaned_data= clean_data(dirty_data)


cleaned_data
