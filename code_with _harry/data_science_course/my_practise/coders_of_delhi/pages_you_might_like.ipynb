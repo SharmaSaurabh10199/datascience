{
 "cells": [
  {
   "cell_type": "code",
   "execution_count": 1,
   "id": "fe837139-6e81-446d-9a64-743c052bb749",
   "metadata": {},
   "outputs": [],
   "source": [
    "# load the data \n",
    "# load the data\n",
    "import json \n",
    "def load_data():\n",
    "    with open(\"massive_data.json\",'r') as file:\n",
    "        return json.load(file)\n"
   ]
  },
  {
   "cell_type": "code",
   "execution_count": 2,
   "id": "c194f12e-d2be-4432-b7c7-2e16d63291f7",
   "metadata": {},
   "outputs": [],
   "source": [
    "data= load_data()"
   ]
  },
  {
   "cell_type": "code",
   "execution_count": 4,
   "id": "80d679fc-4d3d-4dda-8ee9-1cb14b5ecd12",
   "metadata": {},
   "outputs": [],
   "source": [
    "# pages you might like \n",
    "def pages_you_might_like(user_id, data):\n",
    "    # create a dictionary of the pages \n",
    "    user_page_mapping={}\n",
    "    for user in data['users']:\n",
    "        user_page_mapping[user['id']]= set(user['liked_pages'])\n",
    "\n",
    "    if user_id not in user_page_mapping:\n",
    "        return []\n",
    "\n",
    "    # find the recomedentation based on the scorers \n",
    "    pages_recommendation={}\n",
    "    for other_user,pages in user_page_mapping.items():\n",
    "        if other_user!= user_id:\n",
    "            for page in pages:\n",
    "                if page not in user_page_mapping[user_id]:\n",
    "                    liked_by_both= user_page_mapping[user_id].intersection(pages)\n",
    "                    pages_recommendation[page]= pages_recommendation.get(page,0)+ len(liked_by_both)\n",
    "\n",
    "    arranged= sorted(pages_recommendation.items(), key= lambda x:x[1], reverse=True)\n",
    "    print(arranged)"
   ]
  },
  {
   "cell_type": "code",
   "execution_count": 5,
   "id": "a38c72da-fec4-4e93-9b50-9d204ed70117",
   "metadata": {},
   "outputs": [
    {
     "name": "stdout",
     "output_type": "stream",
     "text": [
      "[(103, 2), (105, 1), (107, 1), (104, 0), (106, 0), (108, 0), (109, 0), (110, 0), (111, 0), (112, 0), (113, 0), (114, 0), (115, 0), (116, 0), (117, 0), (118, 0), (119, 0), (120, 0), (121, 0), (122, 0), (123, 0), (124, 0), (125, 0), (126, 0), (127, 0)]\n"
     ]
    }
   ],
   "source": [
    "pages_you_might_like(1, data)"
   ]
  }
 ],
 "metadata": {
  "kernelspec": {
   "display_name": "Python [conda env:base] *",
   "language": "python",
   "name": "conda-base-py"
  },
  "language_info": {
   "codemirror_mode": {
    "name": "ipython",
    "version": 3
   },
   "file_extension": ".py",
   "mimetype": "text/x-python",
   "name": "python",
   "nbconvert_exporter": "python",
   "pygments_lexer": "ipython3",
   "version": "3.12.7"
  }
 },
 "nbformat": 4,
 "nbformat_minor": 5
}
