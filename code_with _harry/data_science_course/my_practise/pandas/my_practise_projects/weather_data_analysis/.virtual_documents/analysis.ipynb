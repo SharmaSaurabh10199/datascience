


import pandas as pd


df=pd.read_csv('weather_data.csv')


df



# find the day with maximum rainfall
max_rainfall=df['Rainfall_mm'].max()
df[df['Rainfall_mm']==max_rainfall]


# find the avg rainfall in whole year 
df['Rainfall_mm'].mean()


# monthly temp avg 
df.groupby('Date')['Temperature_C'].mean()
