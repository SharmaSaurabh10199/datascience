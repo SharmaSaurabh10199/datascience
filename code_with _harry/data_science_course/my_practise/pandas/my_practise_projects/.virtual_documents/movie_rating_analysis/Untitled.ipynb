


import pandas as pd 



df=pd.read_csv('movie_ratings_project2.csv')
df.head()


# find top 10 highest rated movies 
sorted_ds= df.sort_values(by='Rating', ascending=False)
sorted_ds.head(10)


# find avg rating by genere 
## remove the null values first 
df.dropna()
df.groupby('Genre')['Rating'].mean()


# Filter movies released after 2015 with ratings above 8.0 

df[(df['Year']> 2015) &  (df['Rating']> 8.0)]

## another way 
df.query('Year > 2015 and Rating > 8.0')



