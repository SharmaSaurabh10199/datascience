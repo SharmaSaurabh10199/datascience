


import pandas as pd 



df=pd.read_csv('sales_data_project4.csv')
df.head()
df.tail()


# calculate the total revenue 
# use apply function to have a new colum
#df['Revenue']= df.apply(lambda x: x['Price']*x['Quantity'])
df['Revenue'] = df['Price']*df['Quantity']
df
# total revenue : 
df['Revenue'].sum()


# find the prodct which sold most in qty 
df.groupby('Product')['Quantity'].sum()


# find the product which sold the most in revenue 
df.groupby('Product')['Revenue'].sum().reset_index(name="TotalRevenue").sort_values(by='TotalRevenue', ascending=False).head(1)
# reset_index : converts the series to df and renames the column




#Identify days with zero sales.
df['Date']= pd.to_datetime(df['Date'])
df['Date'].min()
df['Date'].max()

all_dates= pd.date_range(start=df['Date'].min(), end=df['Date'].max())
missing_dates= all_dates.difference(df['Date'])
missing_dates.tolist()
all_dates.tolist()
df.sort_values(by='Date')



