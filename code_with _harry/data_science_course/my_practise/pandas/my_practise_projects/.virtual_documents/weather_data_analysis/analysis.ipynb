


import pandas as pd


df=pd.read_csv('weather_data.csv')





df


# find the avg rainfall by maonth 
# convert it to datetime 
df['Date']= pd.to_datetime(df['Date'])
df['Month']= df['Date'].dt.month
# groupby the month 
df.groupby('Month')['Temperature_C'].mean()
df.groupby('Month')['Humidity_%'].mean()


# find the day with maximum rainfall
max_rainfall=df['Rainfall_mm'].max()
df[df['Rainfall_mm']==max_rainfall]


# find the avg rainfall in whole year 
df['Rainfall_mm'].mean()


# monthly temp avg 
df.head()
df.tail()
