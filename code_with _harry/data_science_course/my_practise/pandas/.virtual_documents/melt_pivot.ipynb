import pandas as pd

# Sample DataFrame
data = {
    'Name': ['Alice', 'Bob', 'Charlie'],
    'Math': [85, 78, 92],
    'Science': [90, 82, 89],
    'English': [88, 85, 94]
}

df = pd.DataFrame(data)

# Display the DataFrame
print(df)



## melt : wide to long 
melt= df.melt(id_vars='Name',value_vars=['Math','Science','English'],var_name='Subject', value_name='score')


melt


# pivot : long to wide 

pivot=melt.pivot(index='Name', columns='Subject', values='score')


pivot
