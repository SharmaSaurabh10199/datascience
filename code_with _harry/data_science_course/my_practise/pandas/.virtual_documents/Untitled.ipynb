import pandas as pd



df=pd.read_csv('data.csv')


df



# filter the df and writr 
df=df[df['IMDb']>8]


df


df.to_csv("filtered.csv")


df.to_csv("filtered.csv", index=False)



