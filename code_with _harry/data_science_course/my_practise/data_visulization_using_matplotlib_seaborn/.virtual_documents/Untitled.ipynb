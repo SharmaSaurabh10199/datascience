import seaborn as sns 
import matplotlib.pyplot as plt


# get all the datasets in the seaborns 
print(sns.get_dataset_names())


# lets pick up the tips data set 
tips= sns.load_dataset('tips')
tips.head()


sns.scatterplot(data=tips, x='total_bill',y='tip')


# line plot 
sns.lineplot(data=tips, x='total_bill',y='tip')



