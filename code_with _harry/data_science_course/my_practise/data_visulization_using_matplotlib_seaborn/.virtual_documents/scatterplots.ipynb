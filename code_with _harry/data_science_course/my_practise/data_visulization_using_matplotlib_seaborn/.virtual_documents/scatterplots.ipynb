# scatter plot 
# used to show the relationship between 2 variables 
# Sample data
import matplotlib.pyplot as plt
study_hours = [1, 2, 3, 4, 5, 6, 7, 8, 9]
exam_scores = [40, 45, 50, 55, 60, 65, 75, 85, 90]
# adding color 
colors= ['red' if score <50 else 'green' for score in exam_scores]

plt.scatter(study_hours,exam_scores, color=colors)
plt.xlabel("Study Hours")
plt.ylabel("Exam Scores")




# using color maps 
plt.scatter(study_hours,exam_scores, c=exam_scores, cmap='viridis')
plt.colorbar(label='Score')
plt.xlabel("Study Hours")
plt.ylabel("Exam Scores")



