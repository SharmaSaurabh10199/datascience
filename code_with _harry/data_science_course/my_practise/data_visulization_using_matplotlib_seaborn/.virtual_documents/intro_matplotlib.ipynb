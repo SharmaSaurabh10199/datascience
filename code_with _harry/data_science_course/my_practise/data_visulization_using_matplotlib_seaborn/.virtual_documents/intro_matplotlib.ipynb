import matplotlib.pyplot as plt


  plt.plot([1,2,3],[4,5,6])


years = [1990, 1992, 1994, 1996, 1998, 2000, 2003, 2005, 2007, 2010]
runs =  [500, 700, 1100, 1500, 1800, 1200, 1700, 1300, 900, 1500]

plt.plot(years,runs)
# x-lable, y-label : 
plt.xlabel('Years')
plt.ylabel('Runs')
plt.title('Sachin ke runs')


# multiple lines in a plot 
kohli = [0, 0, 500, 800, 1100, 1300, 1500, 1800, 1900, 2100]
sehwag = [0, 300, 800, 1200, 1500, 1700, 1600, 1400, 1000, 0]

plt.plot(years, kohli, label='kohli')
plt.plot(years, sehwag, label='Sehwag')
plt.xlabel('Years')
plt.ylabel('Runs')
plt.title('Runs Comparision')
plt.legend()


# format strings in  matplotlib 
plt.plot(years, kohli,'rs-', label='kohli')
plt.plot(years, sehwag, 'go--',label='Sehwag')
"""
fmt = '[marker][line][color]' , r: red, s; square, - line style
"""


# color and linstylr arguments 
plt.plot(years, kohli,color='orange',linestyle='--', label='kohli')
plt.plot(years, sehwag,color='red',linestyle='-',label='Sehwag')
plt.legend()


# linewidth 
# color and linstylr arguments 
plt.plot(years, kohli,color='orange',linestyle='--', linewidth=5 ,label='kohli')
plt.plot(years, sehwag,color='red',linestyle='-',linewidth=5,label='Sehwag')
plt.legend()



# layout 
# linewidth 
# color and linstylr arguments 
plt.plot(years, kohli,color='orange',linestyle='--', linewidth=2 ,label='kohli')
plt.plot(years, sehwag,color='red',linestyle='-',linewidth=2,label='Sehwag')
plt.grid()
plt.tight_layout()
plt.legend()



print(plt.style.available)


plt.plot(years, kohli,color='orange',linestyle='--', linewidth=2 ,label='kohli')
plt.plot(years, sehwag,color='red',linestyle='-',linewidth=2,label='Sehwag')
plt.grid()
plt.style.use('_mpl-gallery-nogrid')
plt.tight_layout()
plt.legend()


with plt.xkcd():
    plt.plot(years, kohli, label="Kohli")
    plt.plot(years, sehwag, label="Sehwag")
    plt.title("Epic Battle of the Batsmen")
    plt.legend()
    plt.show()
