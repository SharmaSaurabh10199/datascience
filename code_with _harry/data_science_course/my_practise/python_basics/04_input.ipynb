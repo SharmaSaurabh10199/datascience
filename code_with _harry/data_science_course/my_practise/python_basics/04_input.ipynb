{
 "cells": [
  {
   "cell_type": "code",
   "execution_count": 1,
   "id": "6efc2021-b0cf-44a7-a57a-1a206996e9ae",
   "metadata": {},
   "outputs": [
    {
     "name": "stdin",
     "output_type": "stream",
     "text": [
      "Enter value of a 45\n"
     ]
    }
   ],
   "source": [
    "a=input(\"Enter value of a\")"
   ]
  },
  {
   "cell_type": "code",
   "execution_count": 2,
   "id": "3a2ea471-0afd-4932-8e90-e535d8a5f71f",
   "metadata": {},
   "outputs": [
    {
     "data": {
      "text/plain": [
       "'45'"
      ]
     },
     "execution_count": 2,
     "metadata": {},
     "output_type": "execute_result"
    }
   ],
   "source": [
    "a"
   ]
  },
  {
   "cell_type": "code",
   "execution_count": 3,
   "id": "cc43db3d-23db-42b0-9433-045de582d981",
   "metadata": {},
   "outputs": [
    {
     "name": "stdin",
     "output_type": "stream",
     "text": [
      "Enetr value of b 56\n"
     ]
    }
   ],
   "source": [
    "b=input(\"Enetr value of b\")"
   ]
  },
  {
   "cell_type": "code",
   "execution_count": 4,
   "id": "8c239b48-da85-4673-a3f5-6c1b023e7e94",
   "metadata": {},
   "outputs": [
    {
     "data": {
      "text/plain": [
       "'56'"
      ]
     },
     "execution_count": 4,
     "metadata": {},
     "output_type": "execute_result"
    }
   ],
   "source": [
    "b\n"
   ]
  },
  {
   "cell_type": "code",
   "execution_count": 5,
   "id": "ce0ff829-dac4-44da-9f71-7f431ddf9bff",
   "metadata": {},
   "outputs": [
    {
     "data": {
      "text/plain": [
       "'4556'"
      ]
     },
     "execution_count": 5,
     "metadata": {},
     "output_type": "execute_result"
    }
   ],
   "source": [
    "a+b"
   ]
  },
  {
   "cell_type": "code",
   "execution_count": 6,
   "id": "7749870c-1428-4bcc-9a6e-a6df8acf3fe3",
   "metadata": {},
   "outputs": [
    {
     "name": "stdin",
     "output_type": "stream",
     "text": [
      " 4557\n"
     ]
    }
   ],
   "source": [
    "c=input()"
   ]
  },
  {
   "cell_type": "code",
   "execution_count": 7,
   "id": "29f80444-ec33-4b70-ba47-4a61a9d2424c",
   "metadata": {},
   "outputs": [
    {
     "data": {
      "text/plain": [
       "'4557'"
      ]
     },
     "execution_count": 7,
     "metadata": {},
     "output_type": "execute_result"
    }
   ],
   "source": [
    "c"
   ]
  },
  {
   "cell_type": "code",
   "execution_count": null,
   "id": "fe7c06ce-6331-4153-bd36-74b29c07772f",
   "metadata": {},
   "outputs": [],
   "source": []
  }
 ],
 "metadata": {
  "kernelspec": {
   "display_name": "Python [conda env:base] *",
   "language": "python",
   "name": "conda-base-py"
  },
  "language_info": {
   "codemirror_mode": {
    "name": "ipython",
    "version": 3
   },
   "file_extension": ".py",
   "mimetype": "text/x-python",
   "name": "python",
   "nbconvert_exporter": "python",
   "pygments_lexer": "ipython3",
   "version": "3.12.7"
  }
 },
 "nbformat": 4,
 "nbformat_minor": 5
}
