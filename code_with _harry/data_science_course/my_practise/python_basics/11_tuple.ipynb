{
 "cells": [
  {
   "cell_type": "code",
   "execution_count": 1,
   "id": "81c40d20-0877-4e0d-8eae-7ca5d3bf7c4c",
   "metadata": {},
   "outputs": [],
   "source": [
    "## Tuple is like list only but immutable \n",
    "t=(1,2,4)"
   ]
  },
  {
   "cell_type": "code",
   "execution_count": 2,
   "id": "33bc8926-c3fa-49c1-a57e-0f6df2372750",
   "metadata": {},
   "outputs": [
    {
     "data": {
      "text/plain": [
       "3"
      ]
     },
     "execution_count": 2,
     "metadata": {},
     "output_type": "execute_result"
    }
   ],
   "source": [
    "len(t)"
   ]
  },
  {
   "cell_type": "code",
   "execution_count": 3,
   "id": "69f5d716-e02e-4ba7-a8bc-68d57d0e4ed9",
   "metadata": {},
   "outputs": [
    {
     "ename": "TypeError",
     "evalue": "'tuple' object does not support item assignment",
     "output_type": "error",
     "traceback": [
      "\u001b[1;31m---------------------------------------------------------------------------\u001b[0m",
      "\u001b[1;31mTypeError\u001b[0m                                 Traceback (most recent call last)",
      "Cell \u001b[1;32mIn[3], line 1\u001b[0m\n\u001b[1;32m----> 1\u001b[0m t[\u001b[38;5;241m1\u001b[39m]\u001b[38;5;241m=\u001b[39m\u001b[38;5;241m3\u001b[39m\n",
      "\u001b[1;31mTypeError\u001b[0m: 'tuple' object does not support item assignment"
     ]
    }
   ],
   "source": [
    "t[1]=3"
   ]
  },
  {
   "cell_type": "code",
   "execution_count": 4,
   "id": "90f52adb-cd67-4b91-9141-929a790af1eb",
   "metadata": {},
   "outputs": [],
   "source": [
    "# tuple packing and unpacking \n",
    "data=('saurabh',23,8901328662)\n",
    "name, age, phone_number = data"
   ]
  },
  {
   "cell_type": "code",
   "execution_count": 5,
   "id": "b65e2c1b-6d81-44fa-b606-1cec675a8927",
   "metadata": {},
   "outputs": [
    {
     "data": {
      "text/plain": [
       "'saurabh'"
      ]
     },
     "execution_count": 5,
     "metadata": {},
     "output_type": "execute_result"
    }
   ],
   "source": [
    "name"
   ]
  },
  {
   "cell_type": "code",
   "execution_count": 6,
   "id": "98fa48ae-7ef9-431e-a184-1e56d4d1a0ef",
   "metadata": {},
   "outputs": [
    {
     "data": {
      "text/plain": [
       "1"
      ]
     },
     "execution_count": 6,
     "metadata": {},
     "output_type": "execute_result"
    }
   ],
   "source": [
    "# count and index :\n",
    "data.count('saurabh')"
   ]
  },
  {
   "cell_type": "code",
   "execution_count": null,
   "id": "81ccfb2b-b07a-4ecf-bc05-38ed05b66f44",
   "metadata": {},
   "outputs": [],
   "source": []
  }
 ],
 "metadata": {
  "kernelspec": {
   "display_name": "Python [conda env:base] *",
   "language": "python",
   "name": "conda-base-py"
  },
  "language_info": {
   "codemirror_mode": {
    "name": "ipython",
    "version": 3
   },
   "file_extension": ".py",
   "mimetype": "text/x-python",
   "name": "python",
   "nbconvert_exporter": "python",
   "pygments_lexer": "ipython3",
   "version": "3.12.7"
  }
 },
 "nbformat": 4,
 "nbformat_minor": 5
}
