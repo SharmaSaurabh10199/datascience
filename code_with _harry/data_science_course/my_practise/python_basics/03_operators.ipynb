{
 "cells": [
  {
   "cell_type": "code",
   "execution_count": 1,
   "id": "28a57c42-982b-4caa-8665-4345c58b5312",
   "metadata": {},
   "outputs": [],
   "source": [
    "a=7\n",
    "b=8"
   ]
  },
  {
   "cell_type": "code",
   "execution_count": 2,
   "id": "da62369a-f675-44e1-a769-8288421ae7ea",
   "metadata": {},
   "outputs": [
    {
     "data": {
      "text/plain": [
       "15"
      ]
     },
     "execution_count": 2,
     "metadata": {},
     "output_type": "execute_result"
    }
   ],
   "source": [
    "a+b"
   ]
  },
  {
   "cell_type": "code",
   "execution_count": 3,
   "id": "e967615a-69ef-42b9-9ea8-dbdeb085ffc8",
   "metadata": {},
   "outputs": [
    {
     "data": {
      "text/plain": [
       "-1"
      ]
     },
     "execution_count": 3,
     "metadata": {},
     "output_type": "execute_result"
    }
   ],
   "source": [
    "a-b"
   ]
  },
  {
   "cell_type": "code",
   "execution_count": 4,
   "id": "16a29850-bb00-409f-b2f3-239724e7665d",
   "metadata": {},
   "outputs": [
    {
     "data": {
      "text/plain": [
       "56"
      ]
     },
     "execution_count": 4,
     "metadata": {},
     "output_type": "execute_result"
    }
   ],
   "source": [
    "a*b"
   ]
  },
  {
   "cell_type": "code",
   "execution_count": 5,
   "id": "408dfcad-ac49-4d4e-9888-d2c23517be35",
   "metadata": {},
   "outputs": [
    {
     "data": {
      "text/plain": [
       "0.875"
      ]
     },
     "execution_count": 5,
     "metadata": {},
     "output_type": "execute_result"
    }
   ],
   "source": [
    "a/b"
   ]
  },
  {
   "cell_type": "code",
   "execution_count": 6,
   "id": "534ef1c2-ca9a-44a5-97f4-a635689a1297",
   "metadata": {},
   "outputs": [
    {
     "data": {
      "text/plain": [
       "0"
      ]
     },
     "execution_count": 6,
     "metadata": {},
     "output_type": "execute_result"
    }
   ],
   "source": [
    "#flooor division \n",
    "\n",
    "a//b\n",
    "# truncates the decimal values and just returns the int"
   ]
  },
  {
   "cell_type": "code",
   "execution_count": 7,
   "id": "b0d44333-02bd-4dbd-862d-767966ce3027",
   "metadata": {},
   "outputs": [
    {
     "data": {
      "text/plain": [
       "5764801"
      ]
     },
     "execution_count": 7,
     "metadata": {},
     "output_type": "execute_result"
    }
   ],
   "source": [
    "a**b  # 7^8"
   ]
  },
  {
   "cell_type": "code",
   "execution_count": 8,
   "id": "d612aa77-bd62-43ae-b7b8-27b32a06655b",
   "metadata": {},
   "outputs": [
    {
     "data": {
      "text/plain": [
       "7"
      ]
     },
     "execution_count": 8,
     "metadata": {},
     "output_type": "execute_result"
    }
   ],
   "source": [
    "# moduluss returns the remainder\n",
    "a%b"
   ]
  },
  {
   "cell_type": "code",
   "execution_count": 9,
   "id": "8089f34f-af08-4638-ac86-b576e0cf4e9d",
   "metadata": {},
   "outputs": [
    {
     "data": {
      "text/plain": [
       "False"
      ]
     },
     "execution_count": 9,
     "metadata": {},
     "output_type": "execute_result"
    }
   ],
   "source": [
    "a==b"
   ]
  },
  {
   "cell_type": "code",
   "execution_count": 10,
   "id": "3556286c-a845-48c2-9139-e8f31175e68d",
   "metadata": {},
   "outputs": [
    {
     "data": {
      "text/plain": [
       "True"
      ]
     },
     "execution_count": 10,
     "metadata": {},
     "output_type": "execute_result"
    }
   ],
   "source": [
    "a!=b"
   ]
  },
  {
   "cell_type": "markdown",
   "id": "aead05c5-3c7f-45d1-89a9-e6a558f2f49c",
   "metadata": {},
   "source": [
    "##Logical operators"
   ]
  },
  {
   "cell_type": "markdown",
   "id": "fe6d3da7-b280-4af9-b167-25598f94f89f",
   "metadata": {},
   "source": [
    "Bitwise operators "
   ]
  },
  {
   "cell_type": "code",
   "execution_count": 12,
   "id": "61e67a3e-e13c-42e6-98c6-8a7a14b804de",
   "metadata": {},
   "outputs": [
    {
     "data": {
      "text/plain": [
       "0"
      ]
     },
     "execution_count": 12,
     "metadata": {},
     "output_type": "execute_result"
    }
   ],
   "source": [
    "a&b"
   ]
  },
  {
   "cell_type": "code",
   "execution_count": 13,
   "id": "f8437f3d-6e25-4cb6-a24a-cbf1c8427daa",
   "metadata": {},
   "outputs": [
    {
     "data": {
      "text/plain": [
       "15"
      ]
     },
     "execution_count": 13,
     "metadata": {},
     "output_type": "execute_result"
    }
   ],
   "source": [
    "a|b"
   ]
  },
  {
   "cell_type": "markdown",
   "id": "e5dce44f-dfce-4c98-b700-10154ab99642",
   "metadata": {},
   "source": [
    "Membership operators \n"
   ]
  },
  {
   "cell_type": "code",
   "execution_count": 15,
   "id": "3407971d-431d-4682-bc4e-a6a4cb318f59",
   "metadata": {},
   "outputs": [],
   "source": [
    "list=[1,2,3,4,5,6,]\n"
   ]
  },
  {
   "cell_type": "code",
   "execution_count": 16,
   "id": "90b737c8-e928-4e2b-b07d-d6658351556b",
   "metadata": {},
   "outputs": [
    {
     "name": "stdout",
     "output_type": "stream",
     "text": [
      "True\n"
     ]
    }
   ],
   "source": [
    "print (2 in list)"
   ]
  },
  {
   "cell_type": "code",
   "execution_count": 17,
   "id": "312775d9-cfee-4ea3-aabb-411ae4827ab8",
   "metadata": {},
   "outputs": [
    {
     "data": {
      "text/plain": [
       "False"
      ]
     },
     "execution_count": 17,
     "metadata": {},
     "output_type": "execute_result"
    }
   ],
   "source": [
    "3 not in list\n"
   ]
  },
  {
   "cell_type": "markdown",
   "id": "de40707c-7d4d-4d10-81dd-a3c54fd6af3e",
   "metadata": {},
   "source": [
    "# is, is not \n",
    "- is and is not: These are identity operators used to check if two variables refer to the same object in memory.\n"
   ]
  },
  {
   "cell_type": "code",
   "execution_count": 18,
   "id": "d90e300c-28c0-42eb-8d4c-42eb4a9bc245",
   "metadata": {},
   "outputs": [],
   "source": [
    "a=[1,2,3]\n",
    "b=[4,5,6]\n",
    "\n"
   ]
  },
  {
   "cell_type": "code",
   "execution_count": 19,
   "id": "0481020a-3b97-4876-8b86-df2702bf77bc",
   "metadata": {},
   "outputs": [
    {
     "data": {
      "text/plain": [
       "False"
      ]
     },
     "execution_count": 19,
     "metadata": {},
     "output_type": "execute_result"
    }
   ],
   "source": [
    "a is b"
   ]
  },
  {
   "cell_type": "code",
   "execution_count": 20,
   "id": "9eddb52d-7959-47ee-bb5d-f1f01e82e3a5",
   "metadata": {},
   "outputs": [],
   "source": [
    "c=a\n"
   ]
  },
  {
   "cell_type": "code",
   "execution_count": 21,
   "id": "a3e111c5-1273-41e1-acea-96e55e1ee00c",
   "metadata": {},
   "outputs": [
    {
     "data": {
      "text/plain": [
       "True"
      ]
     },
     "execution_count": 21,
     "metadata": {},
     "output_type": "execute_result"
    }
   ],
   "source": [
    "c is a"
   ]
  },
  {
   "cell_type": "code",
   "execution_count": null,
   "id": "27e342c6-b0b1-4f32-bce2-a575c4d51591",
   "metadata": {},
   "outputs": [],
   "source": []
  }
 ],
 "metadata": {
  "kernelspec": {
   "display_name": "Python [conda env:base] *",
   "language": "python",
   "name": "conda-base-py"
  },
  "language_info": {
   "codemirror_mode": {
    "name": "ipython",
    "version": 3
   },
   "file_extension": ".py",
   "mimetype": "text/x-python",
   "name": "python",
   "nbconvert_exporter": "python",
   "pygments_lexer": "ipython3",
   "version": "3.12.7"
  }
 },
 "nbformat": 4,
 "nbformat_minor": 5
}
