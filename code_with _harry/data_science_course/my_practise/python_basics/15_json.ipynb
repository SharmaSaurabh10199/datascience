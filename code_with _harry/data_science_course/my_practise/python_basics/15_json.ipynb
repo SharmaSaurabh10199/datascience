{
 "cells": [
  {
   "cell_type": "code",
   "execution_count": 1,
   "id": "4bbc8ddc-8df6-41e2-b704-cbf759fa7419",
   "metadata": {},
   "outputs": [],
   "source": [
    "import json"
   ]
  },
  {
   "cell_type": "code",
   "execution_count": 6,
   "id": "6383bd29-af9f-4d6c-9990-b029bb18b551",
   "metadata": {},
   "outputs": [],
   "source": [
    "obj={\n",
    "    'key1':1,\n",
    "    'key2':2,\n",
    "    'key3':3\n",
    "}"
   ]
  },
  {
   "cell_type": "code",
   "execution_count": 7,
   "id": "776f5601-0ea8-4695-9e21-edf768b61030",
   "metadata": {},
   "outputs": [],
   "source": [
    "str=json.dumps(obj)"
   ]
  },
  {
   "cell_type": "code",
   "execution_count": 8,
   "id": "4a351d4e-7e21-49bf-b18b-f94c989873ba",
   "metadata": {},
   "outputs": [
    {
     "data": {
      "text/plain": [
       "'{\"key1\": 1, \"key2\": 2, \"key3\": 3}'"
      ]
     },
     "execution_count": 8,
     "metadata": {},
     "output_type": "execute_result"
    }
   ],
   "source": [
    "str"
   ]
  },
  {
   "cell_type": "code",
   "execution_count": 9,
   "id": "2d1a7d57-b591-4895-87fd-81787086cb47",
   "metadata": {},
   "outputs": [],
   "source": [
    "obj_back= json.loads(str)"
   ]
  },
  {
   "cell_type": "code",
   "execution_count": 11,
   "id": "51819d79-7944-42d8-9761-7a7e4ab5b8e7",
   "metadata": {},
   "outputs": [
    {
     "data": {
      "text/plain": [
       "{'key1': 1, 'key2': 2, 'key3': 3}"
      ]
     },
     "execution_count": 11,
     "metadata": {},
     "output_type": "execute_result"
    }
   ],
   "source": [
    "obj_back"
   ]
  },
  {
   "cell_type": "code",
   "execution_count": 13,
   "id": "5d9a323b-4e27-48c0-b65b-e53c92570d23",
   "metadata": {},
   "outputs": [],
   "source": [
    "## dumping to a text file \n",
    "with open(\"data.json\",\"w\") as fl:\n",
    "    json.dump(obj,fl)"
   ]
  },
  {
   "cell_type": "code",
   "execution_count": 16,
   "id": "89620d77-b9bc-4e97-9eb4-6c819b92b831",
   "metadata": {},
   "outputs": [
    {
     "name": "stdout",
     "output_type": "stream",
     "text": [
      "{'key1': 1, 'key2': 2, 'key3': 3}\n"
     ]
    }
   ],
   "source": [
    "## loding json from the file \n",
    "with open ('data.json','r') as file :\n",
    "    data_loaded= json.load(file)\n",
    "    print(data_loaded)"
   ]
  },
  {
   "cell_type": "code",
   "execution_count": null,
   "id": "3a27c909-3597-4a52-a57c-6a13e0d6d360",
   "metadata": {},
   "outputs": [],
   "source": []
  }
 ],
 "metadata": {
  "kernelspec": {
   "display_name": "Python [conda env:base] *",
   "language": "python",
   "name": "conda-base-py"
  },
  "language_info": {
   "codemirror_mode": {
    "name": "ipython",
    "version": 3
   },
   "file_extension": ".py",
   "mimetype": "text/x-python",
   "name": "python",
   "nbconvert_exporter": "python",
   "pygments_lexer": "ipython3",
   "version": "3.12.7"
  }
 },
 "nbformat": 4,
 "nbformat_minor": 5
}
