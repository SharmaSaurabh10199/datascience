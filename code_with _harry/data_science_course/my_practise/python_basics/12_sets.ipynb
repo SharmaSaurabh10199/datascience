{
 "cells": [
  {
   "cell_type": "code",
   "execution_count": 1,
   "id": "66dd1791-1381-41e7-889c-fcdf4ba66c2f",
   "metadata": {},
   "outputs": [
    {
     "data": {
      "text/plain": [
       "dict"
      ]
     },
     "execution_count": 1,
     "metadata": {},
     "output_type": "execute_result"
    }
   ],
   "source": [
    "## unordered, mutable, unique\n",
    "#collection of elements :\n",
    "a={}  # its an empty dictionary \n",
    "type(a)\n"
   ]
  },
  {
   "cell_type": "code",
   "execution_count": 2,
   "id": "d7a8b2ef-c364-4d71-bc70-2c7dbea20740",
   "metadata": {},
   "outputs": [],
   "source": [
    "# empty set \n",
    "b=set()"
   ]
  },
  {
   "cell_type": "code",
   "execution_count": 3,
   "id": "bd0911f9-3c39-4333-888a-ef87adf52942",
   "metadata": {},
   "outputs": [
    {
     "data": {
      "text/plain": [
       "set"
      ]
     },
     "execution_count": 3,
     "metadata": {},
     "output_type": "execute_result"
    }
   ],
   "source": [
    "type(b)"
   ]
  },
  {
   "cell_type": "code",
   "execution_count": 4,
   "id": "f3a3cc6f-2942-491d-8e9c-89715831661f",
   "metadata": {},
   "outputs": [
    {
     "data": {
      "text/plain": [
       "{1, 2, 5, 6, 34}"
      ]
     },
     "execution_count": 4,
     "metadata": {},
     "output_type": "execute_result"
    }
   ],
   "source": [
    "numbers={1,2,34,5,6,6}\n",
    "numbers"
   ]
  },
  {
   "cell_type": "code",
   "execution_count": 5,
   "id": "c182ac65-caee-4074-8896-9760eacc55e8",
   "metadata": {},
   "outputs": [],
   "source": [
    "numbers.add(45)"
   ]
  },
  {
   "cell_type": "code",
   "execution_count": 6,
   "id": "9cbfd297-66be-4397-92d9-824e04d8434d",
   "metadata": {},
   "outputs": [
    {
     "data": {
      "text/plain": [
       "1"
      ]
     },
     "execution_count": 6,
     "metadata": {},
     "output_type": "execute_result"
    }
   ],
   "source": [
    "numbers.pop()  # removes a rand element "
   ]
  },
  {
   "cell_type": "code",
   "execution_count": 7,
   "id": "6cb8d77d-0bad-4505-b813-5329db924ab4",
   "metadata": {},
   "outputs": [],
   "source": [
    "numbers.update([3,5,6,8,9]) # adds multiple elements "
   ]
  },
  {
   "cell_type": "code",
   "execution_count": 8,
   "id": "e736e846-c892-40c6-a339-e189509ec37b",
   "metadata": {},
   "outputs": [
    {
     "data": {
      "text/plain": [
       "{2, 3, 5, 6, 8, 9, 34, 45}"
      ]
     },
     "execution_count": 8,
     "metadata": {},
     "output_type": "execute_result"
    }
   ],
   "source": [
    "numbers"
   ]
  },
  {
   "cell_type": "markdown",
   "id": "8f642094-bcff-4dc0-b47d-279abdc08d1c",
   "metadata": {},
   "source": [
    "## SET OPERATIONS"
   ]
  },
  {
   "cell_type": "code",
   "execution_count": 28,
   "id": "402df83a-dc01-4993-a267-db650a2c03ff",
   "metadata": {},
   "outputs": [
    {
     "name": "stdout",
     "output_type": "stream",
     "text": [
      "{0, 1, 2, 3, 4, 5, 6, 8, 9}\n",
      "{0, 1, 2, 3, 4, 5, 6, 8, 9}\n"
     ]
    }
   ],
   "source": [
    "set1={1,2,3,4,6}\n",
    "set2={0,5,8,9,6}\n",
    "\n",
    "print(set1.union(set2))\n",
    "print(set1 | set2)"
   ]
  },
  {
   "cell_type": "code",
   "execution_count": 26,
   "id": "49d261ec-ab24-46aa-8182-346cc1c5f50c",
   "metadata": {},
   "outputs": [
    {
     "name": "stdout",
     "output_type": "stream",
     "text": [
      "{36, 7}\n",
      "{36, 7}\n"
     ]
    }
   ],
   "source": [
    "s1={2425,36,7}\n",
    "s2={7,36,3,7,8}\n",
    "\n",
    "print(s1.intersection(s2))\n",
    "print(s1 & s2)\n"
   ]
  },
  {
   "cell_type": "code",
   "execution_count": 20,
   "id": "f9891d33-ce50-42ff-8814-f88297c8498f",
   "metadata": {},
   "outputs": [
    {
     "name": "stdout",
     "output_type": "stream",
     "text": [
      "{1, 2, 3, 4, 6}\n",
      "{0, 5, 6, 8, 9}\n"
     ]
    },
    {
     "data": {
      "text/plain": [
       "{6}"
      ]
     },
     "execution_count": 20,
     "metadata": {},
     "output_type": "execute_result"
    }
   ],
   "source": [
    "\n",
    "print(set1)\n",
    "print(set2)\n",
    "set1.intersection(set2)"
   ]
  },
  {
   "cell_type": "code",
   "execution_count": 30,
   "id": "f16c3d77-93a5-4e26-b476-c2be4a53ac09",
   "metadata": {},
   "outputs": [
    {
     "data": {
      "text/plain": [
       "{1, 2, 3, 4}"
      ]
     },
     "execution_count": 30,
     "metadata": {},
     "output_type": "execute_result"
    }
   ],
   "source": [
    "set1.difference(set2)\n",
    "set1-set2"
   ]
  },
  {
   "cell_type": "code",
   "execution_count": 31,
   "id": "6702dc8b-f897-42d1-917f-88b91596391e",
   "metadata": {},
   "outputs": [
    {
     "data": {
      "text/plain": [
       "False"
      ]
     },
     "execution_count": 31,
     "metadata": {},
     "output_type": "execute_result"
    }
   ],
   "source": [
    "set1.issubset(set2)"
   ]
  },
  {
   "cell_type": "code",
   "execution_count": null,
   "id": "93107504-afee-4cc3-848c-be975f306522",
   "metadata": {},
   "outputs": [],
   "source": []
  }
 ],
 "metadata": {
  "kernelspec": {
   "display_name": "Python [conda env:base] *",
   "language": "python",
   "name": "conda-base-py"
  },
  "language_info": {
   "codemirror_mode": {
    "name": "ipython",
    "version": 3
   },
   "file_extension": ".py",
   "mimetype": "text/x-python",
   "name": "python",
   "nbconvert_exporter": "python",
   "pygments_lexer": "ipython3",
   "version": "3.12.7"
  }
 },
 "nbformat": 4,
 "nbformat_minor": 5
}
