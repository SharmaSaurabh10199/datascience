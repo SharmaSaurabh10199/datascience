{
 "cells": [
  {
   "cell_type": "code",
   "execution_count": 1,
   "id": "0c5699c0-9d11-43e5-b46b-805d9ed1f1ea",
   "metadata": {},
   "outputs": [],
   "source": [
    "fruits=[\"apple\",\"bananas\",\"mango\"]"
   ]
  },
  {
   "cell_type": "code",
   "execution_count": 2,
   "id": "e8a899ba-e8fb-4aed-a8c5-4b655c1395db",
   "metadata": {},
   "outputs": [
    {
     "ename": "IndexError",
     "evalue": "list index out of range",
     "output_type": "error",
     "traceback": [
      "\u001b[1;31m---------------------------------------------------------------------------\u001b[0m",
      "\u001b[1;31mIndexError\u001b[0m                                Traceback (most recent call last)",
      "Cell \u001b[1;32mIn[2], line 1\u001b[0m\n\u001b[1;32m----> 1\u001b[0m fruits[\u001b[38;5;241m4\u001b[39m]\n",
      "\u001b[1;31mIndexError\u001b[0m: list index out of range"
     ]
    }
   ],
   "source": [
    "fruits[4]"
   ]
  },
  {
   "cell_type": "code",
   "execution_count": 4,
   "id": "d13df484-9566-45e8-830e-75ea09ce0112",
   "metadata": {},
   "outputs": [],
   "source": [
    "# lists are mutable \n",
    "fruits[1]=\"banana\""
   ]
  },
  {
   "cell_type": "code",
   "execution_count": 6,
   "id": "9f7e4a81-79db-444f-9bcd-845d556f03f4",
   "metadata": {},
   "outputs": [],
   "source": [
    "fruits.append(\"khajur\")"
   ]
  },
  {
   "cell_type": "code",
   "execution_count": 7,
   "id": "90d94359-5f0b-41f4-ae4a-e01b2e0a078f",
   "metadata": {},
   "outputs": [
    {
     "data": {
      "text/plain": [
       "['apple', 'banana', 'mango', 'khajur']"
      ]
     },
     "execution_count": 7,
     "metadata": {},
     "output_type": "execute_result"
    }
   ],
   "source": [
    "fruits\n"
   ]
  },
  {
   "cell_type": "code",
   "execution_count": 8,
   "id": "cbaac1ad-85ca-46ef-bb45-5a0da7aa30ae",
   "metadata": {},
   "outputs": [],
   "source": [
    "## insert at a specific index \n",
    "fruits.insert(1,\"guavava\")"
   ]
  },
  {
   "cell_type": "code",
   "execution_count": 9,
   "id": "61e658f6-eeff-4730-a2d7-18ad972c2067",
   "metadata": {},
   "outputs": [
    {
     "data": {
      "text/plain": [
       "['apple', 'guavava', 'banana', 'mango', 'khajur']"
      ]
     },
     "execution_count": 9,
     "metadata": {},
     "output_type": "execute_result"
    }
   ],
   "source": [
    "fruits"
   ]
  },
  {
   "cell_type": "code",
   "execution_count": 11,
   "id": "d9af4290-d440-4431-82c9-02c5a0156af8",
   "metadata": {},
   "outputs": [
    {
     "data": {
      "text/plain": [
       "['apple', 'mango', 'khajur']"
      ]
     },
     "execution_count": 11,
     "metadata": {},
     "output_type": "execute_result"
    }
   ],
   "source": [
    "## removing a pertiular element \n",
    "frt=fruits.pop(1)\n",
    "frt\n",
    "fruits"
   ]
  },
  {
   "cell_type": "code",
   "execution_count": 12,
   "id": "45793834-dd86-47ff-bc37-481a319dda86",
   "metadata": {},
   "outputs": [
    {
     "name": "stdout",
     "output_type": "stream",
     "text": [
      "1\n"
     ]
    }
   ],
   "source": [
    "## to find the index of a perticular \n",
    "idx=fruits.index('mango')\n",
    "print(idx)"
   ]
  },
  {
   "cell_type": "code",
   "execution_count": 13,
   "id": "4168773e-66c8-48ae-bea5-1aebde8c2587",
   "metadata": {},
   "outputs": [
    {
     "data": {
      "text/plain": [
       "1"
      ]
     },
     "execution_count": 13,
     "metadata": {},
     "output_type": "execute_result"
    }
   ],
   "source": [
    "fruits.count('mango')"
   ]
  },
  {
   "cell_type": "code",
   "execution_count": 14,
   "id": "2d6da1e7-67da-4605-9a0c-5d2b0989e962",
   "metadata": {},
   "outputs": [
    {
     "data": {
      "text/plain": [
       "['apple', 'khajur', 'mango']"
      ]
     },
     "execution_count": 14,
     "metadata": {},
     "output_type": "execute_result"
    }
   ],
   "source": [
    "## sorted : returns a new sorted list\n",
    "sorted(fruits)"
   ]
  },
  {
   "cell_type": "code",
   "execution_count": 15,
   "id": "1b5d2348-4bbc-40f9-9c47-65474f502e6e",
   "metadata": {},
   "outputs": [],
   "source": [
    "fruits.sort()  # sorts the list in place \n",
    "\n"
   ]
  },
  {
   "cell_type": "code",
   "execution_count": 19,
   "id": "2fe58864-763f-4c3b-bbbb-65d792973ac4",
   "metadata": {},
   "outputs": [
    {
     "name": "stdout",
     "output_type": "stream",
     "text": [
      "None\n"
     ]
    },
    {
     "data": {
      "text/plain": [
       "['mango', 'khajur', 'apple']"
      ]
     },
     "execution_count": 19,
     "metadata": {},
     "output_type": "execute_result"
    }
   ],
   "source": [
    "print(fruits.reverse())\n",
    "fruits"
   ]
  },
  {
   "cell_type": "code",
   "execution_count": 26,
   "id": "c4f8dd28-2bcf-4762-a754-6995fcfbc9a0",
   "metadata": {},
   "outputs": [
    {
     "data": {
      "text/plain": [
       "['apple', 'khajur', 'mango']"
      ]
     },
     "execution_count": 26,
     "metadata": {},
     "output_type": "execute_result"
    }
   ],
   "source": [
    "fruits.reverse()\n",
    "\n",
    "fruits"
   ]
  },
  {
   "cell_type": "code",
   "execution_count": null,
   "id": "e9a03cfb-619d-4432-811c-d30fc93cd4ba",
   "metadata": {},
   "outputs": [],
   "source": []
  }
 ],
 "metadata": {
  "kernelspec": {
   "display_name": "Python [conda env:base] *",
   "language": "python",
   "name": "conda-base-py"
  },
  "language_info": {
   "codemirror_mode": {
    "name": "ipython",
    "version": 3
   },
   "file_extension": ".py",
   "mimetype": "text/x-python",
   "name": "python",
   "nbconvert_exporter": "python",
   "pygments_lexer": "ipython3",
   "version": "3.12.7"
  }
 },
 "nbformat": 4,
 "nbformat_minor": 5
}
