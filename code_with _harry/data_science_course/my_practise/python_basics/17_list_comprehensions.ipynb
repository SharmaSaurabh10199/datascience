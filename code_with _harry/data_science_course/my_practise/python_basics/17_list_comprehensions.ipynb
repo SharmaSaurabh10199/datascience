{
 "cells": [
  {
   "cell_type": "code",
   "execution_count": 4,
   "id": "623d79bd-e6be-4e57-b53e-ba1a9c10a0f2",
   "metadata": {},
   "outputs": [],
   "source": [
    "## one lines to crete the list :\n",
    "\n",
    "table2=[2*i for i in range(6)]"
   ]
  },
  {
   "cell_type": "code",
   "execution_count": 5,
   "id": "1cbac4bd-6f3a-4fe7-a74d-602c60afa857",
   "metadata": {},
   "outputs": [
    {
     "data": {
      "text/plain": [
       "[0, 2, 4, 6, 8, 10]"
      ]
     },
     "execution_count": 5,
     "metadata": {},
     "output_type": "execute_result"
    }
   ],
   "source": [
    "table2"
   ]
  },
  {
   "cell_type": "code",
   "execution_count": 7,
   "id": "f09b8eda-2697-4a58-9d5a-2b2b414497af",
   "metadata": {},
   "outputs": [
    {
     "data": {
      "text/plain": [
       "[0, 2, 4, 6, 8, 10, 12, 14, 16, 18, 20, 22, 24, 26, 28]"
      ]
     },
     "execution_count": 7,
     "metadata": {},
     "output_type": "execute_result"
    }
   ],
   "source": [
    "## list of filtyerd even numbers \n",
    "evens=[i for i in range(30) if i%2==0]\n",
    "evens"
   ]
  },
  {
   "cell_type": "code",
   "execution_count": 8,
   "id": "61d81bf5-1f1a-4d04-a29b-43d9beb6ea05",
   "metadata": {},
   "outputs": [
    {
     "data": {
      "text/plain": [
       "['KALU', 'MITHU', 'BHOLU']"
      ]
     },
     "execution_count": 8,
     "metadata": {},
     "output_type": "execute_result"
    }
   ],
   "source": [
    "## i words \n",
    "words=['kalu','mithu','bholu']\n",
    "\n",
    "cased= [word.upper() for word in words]\n",
    "cased"
   ]
  },
  {
   "cell_type": "code",
   "execution_count": 11,
   "id": "53bc85d1-d5aa-4fb0-bbc2-0b148fc94328",
   "metadata": {},
   "outputs": [
    {
     "data": {
      "text/plain": [
       "[(0, 0), (0, 1), (1, 0), (1, 1)]"
      ]
     },
     "execution_count": 11,
     "metadata": {},
     "output_type": "execute_result"
    }
   ],
   "source": [
    "# nested loops in list comprehensiosn \n",
    "ls_pairs=[(x,y) for x in range(2) for y in range(2)]\n",
    "ls_pairs"
   ]
  },
  {
   "cell_type": "code",
   "execution_count": 12,
   "id": "d7d4e3a4-db60-45ab-a581-f1a01d4b5f1b",
   "metadata": {},
   "outputs": [
    {
     "data": {
      "text/plain": [
       "[1, 2, 3, 3, 4, 3]"
      ]
     },
     "execution_count": 12,
     "metadata": {},
     "output_type": "execute_result"
    }
   ],
   "source": [
    "## flattening a 2-d list \n",
    "matrix=[[1,2,3],[3,4],[3]]\n",
    "flattened=[num for ls in matrix for num in ls]\n",
    "flattened"
   ]
  },
  {
   "cell_type": "code",
   "execution_count": 14,
   "id": "f6d09b3b-e310-4feb-bf6d-aa7ee2a07bce",
   "metadata": {},
   "outputs": [
    {
     "data": {
      "text/plain": [
       "{1, 4, 32, 54}"
      ]
     },
     "execution_count": 14,
     "metadata": {},
     "output_type": "execute_result"
    }
   ],
   "source": [
    "## set comprehensions\n",
    "set={x for x in [1,32,4,54]}\n",
    "set"
   ]
  },
  {
   "cell_type": "code",
   "execution_count": 17,
   "id": "7ee27435-a465-448b-bed5-d7dc19f59e01",
   "metadata": {},
   "outputs": [
    {
     "data": {
      "text/plain": [
       "{2: 4, 3: 9, 4: 16, 5: 25, 7: 49}"
      ]
     },
     "execution_count": 17,
     "metadata": {},
     "output_type": "execute_result"
    }
   ],
   "source": [
    "## dictionary comprehensions\n",
    "dict={x: x**2 for x in [2,3,4,5,7]}\n",
    "dict"
   ]
  }
 ],
 "metadata": {
  "kernelspec": {
   "display_name": "Python [conda env:base] *",
   "language": "python",
   "name": "conda-base-py"
  },
  "language_info": {
   "codemirror_mode": {
    "name": "ipython",
    "version": 3
   },
   "file_extension": ".py",
   "mimetype": "text/x-python",
   "name": "python",
   "nbconvert_exporter": "python",
   "pygments_lexer": "ipython3",
   "version": "3.12.7"
  }
 },
 "nbformat": 4,
 "nbformat_minor": 5
}
