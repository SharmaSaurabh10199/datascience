{
 "cells": [
  {
   "cell_type": "code",
   "execution_count": 1,
   "id": "f4737643-d75f-4cb0-a8e7-f6725040ab24",
   "metadata": {},
   "outputs": [],
   "source": [
    "## if else ladder \n",
    "a=45"
   ]
  },
  {
   "cell_type": "code",
   "execution_count": 3,
   "id": "236cd843-a896-4fd8-b373-cbaa53478edc",
   "metadata": {},
   "outputs": [
    {
     "name": "stdout",
     "output_type": "stream",
     "text": [
      "big enough\n"
     ]
    }
   ],
   "source": [
    "if (a<10):\n",
    "    print(\"smaller\")\n",
    "elif (a<20):\n",
    "    print(\"small\")\n",
    "elif (a<30):\n",
    "    print(\"medium\")\n",
    "\n",
    "else:\n",
    "    print(\"big enough\")"
   ]
  },
  {
   "cell_type": "code",
   "execution_count": 4,
   "id": "391d1202-c446-415b-a216-c30ec1b6d605",
   "metadata": {},
   "outputs": [],
   "source": [
    "def average(a,b=0):\n",
    "    return (a+b)/2\n"
   ]
  },
  {
   "cell_type": "code",
   "execution_count": 5,
   "id": "81e5b9ae-223d-4d70-bae9-86863fa272f7",
   "metadata": {},
   "outputs": [
    {
     "data": {
      "text/plain": [
       "3.5"
      ]
     },
     "execution_count": 5,
     "metadata": {},
     "output_type": "execute_result"
    }
   ],
   "source": [
    "average(3,4)"
   ]
  },
  {
   "cell_type": "code",
   "execution_count": 7,
   "id": "6fb63908-26d6-4d0c-aa3a-d827cf0ec21c",
   "metadata": {},
   "outputs": [],
   "source": [
    "None"
   ]
  },
  {
   "cell_type": "code",
   "execution_count": null,
   "id": "76ff9fbd-45f7-4c67-ac9b-f5ac4ba933e0",
   "metadata": {},
   "outputs": [],
   "source": []
  }
 ],
 "metadata": {
  "kernelspec": {
   "display_name": "Python [conda env:base] *",
   "language": "python",
   "name": "conda-base-py"
  },
  "language_info": {
   "codemirror_mode": {
    "name": "ipython",
    "version": 3
   },
   "file_extension": ".py",
   "mimetype": "text/x-python",
   "name": "python",
   "nbconvert_exporter": "python",
   "pygments_lexer": "ipython3",
   "version": "3.12.7"
  }
 },
 "nbformat": 4,
 "nbformat_minor": 5
}
