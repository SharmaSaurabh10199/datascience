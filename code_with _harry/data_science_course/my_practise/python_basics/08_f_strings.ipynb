{
 "cells": [
  {
   "cell_type": "markdown",
   "id": "747c7a4a-8885-49a8-a936-597c30c79d60",
   "metadata": {},
   "source": [
    "## Format"
   ]
  },
  {
   "cell_type": "code",
   "execution_count": 1,
   "id": "2d7fe23b-8331-42f7-90b7-3f7d6dee4819",
   "metadata": {},
   "outputs": [
    {
     "name": "stdout",
     "output_type": "stream",
     "text": [
      "I am saurabh,45 years of age\n"
     ]
    }
   ],
   "source": [
    "name='saurabh'\n",
    "age=45\n",
    "print(\"I am {},{} years of age\".format(name,age))"
   ]
  },
  {
   "cell_type": "markdown",
   "id": "e0717e85-e989-436e-b00e-4839985b6170",
   "metadata": {},
   "source": [
    "## F-Strings: \n",
    "# a better way "
   ]
  },
  {
   "cell_type": "code",
   "execution_count": 2,
   "id": "2f95d736-acac-41ac-a649-2d7504f3a422",
   "metadata": {},
   "outputs": [
    {
     "name": "stdout",
     "output_type": "stream",
     "text": [
      "I am saurabh,45 years of age\n"
     ]
    }
   ],
   "source": [
    "print(f\"I am {name},{age} years of age\")"
   ]
  },
  {
   "cell_type": "code",
   "execution_count": 5,
   "id": "f3d6035a-9760-4e35-b07b-c7aab4709f94",
   "metadata": {},
   "outputs": [
    {
     "name": "stdout",
     "output_type": "stream",
     "text": [
      "pi rounded to 2 decimal places is : 3.15\n"
     ]
    }
   ],
   "source": [
    "# formating numbers \n",
    "pi=3.14566\n",
    "print(f\"pi rounded to 2 decimal places is : {pi:.2f}\")"
   ]
  },
  {
   "cell_type": "code",
   "execution_count": 8,
   "id": "85ce859d-4b34-4159-b874-e99cd4747022",
   "metadata": {},
   "outputs": [
    {
     "name": "stdout",
     "output_type": "stream",
     "text": [
      "Python                                                                                              \n",
      "    Python\n",
      "  Python  \n"
     ]
    }
   ],
   "source": [
    "print(f\"{'Python':<100}\")  # Left-align\n",
    "print(f\"{'Python':>10}\")  # Right-align\n",
    "print(f\"{'Python':^10}\")  # Center-align"
   ]
  },
  {
   "cell_type": "code",
   "execution_count": null,
   "id": "a274f02e-e817-4c70-9b15-26eca29e4d38",
   "metadata": {},
   "outputs": [],
   "source": []
  }
 ],
 "metadata": {
  "kernelspec": {
   "display_name": "Python [conda env:base] *",
   "language": "python",
   "name": "conda-base-py"
  },
  "language_info": {
   "codemirror_mode": {
    "name": "ipython",
    "version": 3
   },
   "file_extension": ".py",
   "mimetype": "text/x-python",
   "name": "python",
   "nbconvert_exporter": "python",
   "pygments_lexer": "ipython3",
   "version": "3.12.7"
  }
 },
 "nbformat": 4,
 "nbformat_minor": 5
}
