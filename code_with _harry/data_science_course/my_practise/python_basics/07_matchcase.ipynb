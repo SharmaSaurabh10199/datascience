{
 "cells": [
  {
   "cell_type": "markdown",
   "id": "13b19ea4-5233-4f4b-b8d6-9368a059b13e",
   "metadata": {},
   "source": [
    "## Match case is like the switch in java or c++"
   ]
  },
  {
   "cell_type": "code",
   "execution_count": 1,
   "id": "65834720-d0e3-4990-91b3-bef4930edd7c",
   "metadata": {},
   "outputs": [],
   "source": [
    "num=3"
   ]
  },
  {
   "cell_type": "code",
   "execution_count": 2,
   "id": "901ee93a-421a-47f8-ad2b-fd242247d5fe",
   "metadata": {},
   "outputs": [
    {
     "name": "stdout",
     "output_type": "stream",
     "text": [
      "much different\n"
     ]
    }
   ],
   "source": [
    "match num:\n",
    "    case 1:\n",
    "        print(\"something\")\n",
    "\n",
    "    case 2:\n",
    "        print(\"something different\")\n",
    "    case 3:\n",
    "        print(\"much different\")\n",
    "    case _:\n",
    "        print(\"out of the box\")\n"
   ]
  },
  {
   "cell_type": "code",
   "execution_count": 4,
   "id": "790ee785-7555-473b-88f3-868161c5f472",
   "metadata": {},
   "outputs": [
    {
     "name": "stdout",
     "output_type": "stream",
     "text": [
      "X-Axis at 3\n"
     ]
    }
   ],
   "source": [
    "point = (3, 0)\n",
    "\n",
    "match point:\n",
    "    case (0, 0):\n",
    "        print(\"Origin\")\n",
    "    case (x, 0):\n",
    "        print(f\"X-Axis at {x}\")\n",
    "    case (0, y):\n",
    "        print(f\"Y-Axis at {y}\")\n",
    "    case (x, y):\n",
    "        print(f\"Point at ({x}, {y})\")"
   ]
  },
  {
   "cell_type": "code",
   "execution_count": null,
   "id": "b31c8373-70b3-4860-b4c6-3b1fea0027db",
   "metadata": {},
   "outputs": [],
   "source": []
  }
 ],
 "metadata": {
  "kernelspec": {
   "display_name": "Python [conda env:base] *",
   "language": "python",
   "name": "conda-base-py"
  },
  "language_info": {
   "codemirror_mode": {
    "name": "ipython",
    "version": 3
   },
   "file_extension": ".py",
   "mimetype": "text/x-python",
   "name": "python",
   "nbconvert_exporter": "python",
   "pygments_lexer": "ipython3",
   "version": "3.12.7"
  }
 },
 "nbformat": 4,
 "nbformat_minor": 5
}
