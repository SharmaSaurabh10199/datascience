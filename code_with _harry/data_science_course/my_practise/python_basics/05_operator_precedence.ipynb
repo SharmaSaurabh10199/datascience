{
 "cells": [
  {
   "cell_type": "markdown",
   "id": "18b66245-db5f-41b3-8a2a-c3284c43ed09",
   "metadata": {},
   "source": [
    "PEMDAS: paranthesis, exponents,multiplication,division, addition, substration"
   ]
  },
  {
   "cell_type": "code",
   "execution_count": 1,
   "id": "c877ed21-628d-42e9-8299-af2fd04d110c",
   "metadata": {},
   "outputs": [
    {
     "data": {
      "text/plain": [
       "16"
      ]
     },
     "execution_count": 1,
     "metadata": {},
     "output_type": "execute_result"
    }
   ],
   "source": [
    "10+2*3"
   ]
  },
  {
   "cell_type": "code",
   "execution_count": 2,
   "id": "465294ad-ec48-4565-823e-b672ce919d12",
   "metadata": {},
   "outputs": [
    {
     "data": {
      "text/plain": [
       "512"
      ]
     },
     "execution_count": 2,
     "metadata": {},
     "output_type": "execute_result"
    }
   ],
   "source": [
    "2**3**2 # resolved from right to left\n"
   ]
  },
  {
   "cell_type": "code",
   "execution_count": 3,
   "id": "3d7da300-6387-4a8a-b11b-af4bf2173aae",
   "metadata": {},
   "outputs": [
    {
     "data": {
      "text/plain": [
       "36"
      ]
     },
     "execution_count": 3,
     "metadata": {},
     "output_type": "execute_result"
    }
   ],
   "source": [
    "(10+2)*3"
   ]
  },
  {
   "cell_type": "code",
   "execution_count": 5,
   "id": "1f230eca-9b7c-4ec2-8bb0-5ae11614cc5b",
   "metadata": {},
   "outputs": [
    {
     "data": {
      "text/plain": [
       "3.0000003086802094"
      ]
     },
     "execution_count": 5,
     "metadata": {},
     "output_type": "execute_result"
    }
   ],
   "source": [
    "34*5/56**5+7-4"
   ]
  },
  {
   "cell_type": "code",
   "execution_count": 6,
   "id": "7c716efc-342f-46aa-a50f-e66bd3887147",
   "metadata": {},
   "outputs": [
    {
     "data": {
      "text/plain": [
       "550731776"
      ]
     },
     "execution_count": 6,
     "metadata": {},
     "output_type": "execute_result"
    }
   ],
   "source": [
    "56**5"
   ]
  },
  {
   "cell_type": "code",
   "execution_count": 7,
   "id": "afcf5c69-4c0a-4680-b0c5-0179d6377e0b",
   "metadata": {},
   "outputs": [
    {
     "data": {
      "text/plain": [
       "3.0868020951091804e-07"
      ]
     },
     "execution_count": 7,
     "metadata": {},
     "output_type": "execute_result"
    }
   ],
   "source": [
    "34*5/550731776\n"
   ]
  },
  {
   "cell_type": "code",
   "execution_count": 8,
   "id": "994c1ce8-f7da-4e0d-9cc2-2acc50de552b",
   "metadata": {},
   "outputs": [
    {
     "data": {
      "text/plain": [
       "3.0000003086802094"
      ]
     },
     "execution_count": 8,
     "metadata": {},
     "output_type": "execute_result"
    }
   ],
   "source": [
    "3.0868020951091804e-07+3\n"
   ]
  },
  {
   "cell_type": "code",
   "execution_count": null,
   "id": "504ac222-018d-449a-ab75-bb039281e409",
   "metadata": {},
   "outputs": [],
   "source": []
  }
 ],
 "metadata": {
  "kernelspec": {
   "display_name": "Python [conda env:base] *",
   "language": "python",
   "name": "conda-base-py"
  },
  "language_info": {
   "codemirror_mode": {
    "name": "ipython",
    "version": 3
   },
   "file_extension": ".py",
   "mimetype": "text/x-python",
   "name": "python",
   "nbconvert_exporter": "python",
   "pygments_lexer": "ipython3",
   "version": "3.12.7"
  }
 },
 "nbformat": 4,
 "nbformat_minor": 5
}
