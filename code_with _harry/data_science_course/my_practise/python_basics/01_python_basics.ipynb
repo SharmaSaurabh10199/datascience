{
 "cells": [
  {
   "cell_type": "code",
   "execution_count": 5,
   "id": "8cf90b17-5d13-456d-a32e-d73357a6e498",
   "metadata": {},
   "outputs": [
    {
     "name": "stdout",
     "output_type": "stream",
     "text": [
      "4\n"
     ]
    }
   ],
   "source": [
    "a=4\n",
    "print(a)"
   ]
  },
  {
   "cell_type": "code",
   "execution_count": 6,
   "id": "21765e5c-ec8b-4c9a-89ef-76fe899d9be8",
   "metadata": {},
   "outputs": [],
   "source": [
    "b=32"
   ]
  },
  {
   "cell_type": "code",
   "execution_count": 7,
   "id": "5bd3b6c5-874b-4496-bdc7-05f7eb29b5b0",
   "metadata": {},
   "outputs": [
    {
     "data": {
      "text/plain": [
       "36"
      ]
     },
     "execution_count": 7,
     "metadata": {},
     "output_type": "execute_result"
    }
   ],
   "source": [
    "a+b"
   ]
  },
  {
   "cell_type": "code",
   "execution_count": 8,
   "id": "ec845f5a-627f-4aef-b88a-44134a72ab05",
   "metadata": {},
   "outputs": [],
   "source": [
    "str=\"harry\""
   ]
  },
  {
   "cell_type": "code",
   "execution_count": 9,
   "id": "9c8dfa5d-0bcd-4fdb-9e77-73b259d5ac9c",
   "metadata": {},
   "outputs": [],
   "source": [
    "# this is a comment\n"
   ]
  },
  {
   "cell_type": "code",
   "execution_count": 11,
   "id": "bf594093-e5fc-4a66-8e24-b092c4afae0c",
   "metadata": {},
   "outputs": [
    {
     "data": {
      "text/plain": [
       "int"
      ]
     },
     "execution_count": 11,
     "metadata": {},
     "output_type": "execute_result"
    }
   ],
   "source": [
    "type(a)"
   ]
  },
  {
   "cell_type": "code",
   "execution_count": 12,
   "id": "74d5d84a-590b-40ed-9b04-b8652c8efc6c",
   "metadata": {},
   "outputs": [
    {
     "name": "stdout",
     "output_type": "stream",
     "text": [
      "3402\n"
     ]
    }
   ],
   "source": [
    "#typcecasting \n",
    "b=\"3346\"\n",
    "d=\"56\"\n",
    "f=int(b)+ int(d)\n",
    "print(f)"
   ]
  },
  {
   "cell_type": "code",
   "execution_count": 13,
   "id": "3c8461c2-8405-4293-add0-1203642163b7",
   "metadata": {},
   "outputs": [
    {
     "data": {
      "text/plain": [
       "['b', 'd', 'c']"
      ]
     },
     "execution_count": 13,
     "metadata": {},
     "output_type": "execute_result"
    }
   ],
   "source": [
    "lst=list(\"bdc\")\n",
    "lst"
   ]
  },
  {
   "cell_type": "code",
   "execution_count": null,
   "id": "f19a0d0b-771c-4eb7-9d7b-b6d5a764e166",
   "metadata": {},
   "outputs": [],
   "source": []
  }
 ],
 "metadata": {
  "kernelspec": {
   "display_name": "Python [conda env:base] *",
   "language": "python",
   "name": "conda-base-py"
  },
  "language_info": {
   "codemirror_mode": {
    "name": "ipython",
    "version": 3
   },
   "file_extension": ".py",
   "mimetype": "text/x-python",
   "name": "python",
   "nbconvert_exporter": "python",
   "pygments_lexer": "ipython3",
   "version": "3.12.7"
  }
 },
 "nbformat": 4,
 "nbformat_minor": 5
}
