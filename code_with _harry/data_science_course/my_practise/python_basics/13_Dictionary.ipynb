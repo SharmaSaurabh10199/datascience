{
 "cells": [
  {
   "cell_type": "code",
   "execution_count": 1,
   "id": "31307a2f-03f6-41cd-87dd-02b221647090",
   "metadata": {},
   "outputs": [],
   "source": [
    "#mutable key value pair "
   ]
  },
  {
   "cell_type": "code",
   "execution_count": 2,
   "id": "a5d2f614-936a-491d-85af-9d3880cdaa7c",
   "metadata": {},
   "outputs": [
    {
     "data": {
      "text/plain": [
       "dict"
      ]
     },
     "execution_count": 2,
     "metadata": {},
     "output_type": "execute_result"
    }
   ],
   "source": [
    "d={}\n",
    "type(d)"
   ]
  },
  {
   "cell_type": "code",
   "execution_count": 3,
   "id": "28a9b706-20f3-441c-8b8f-50990c4e26cd",
   "metadata": {},
   "outputs": [],
   "source": [
    "student= {\n",
    "    'name':'saurabh',\n",
    "    'age': 23,\n",
    "    'phone_no': 8901328662\n",
    "}"
   ]
  },
  {
   "cell_type": "code",
   "execution_count": 4,
   "id": "dddb19d7-276c-46fc-9bc8-a0a6e56eb099",
   "metadata": {},
   "outputs": [
    {
     "data": {
      "text/plain": [
       "'saurabh'"
      ]
     },
     "execution_count": 4,
     "metadata": {},
     "output_type": "execute_result"
    }
   ],
   "source": [
    "student['name']"
   ]
  },
  {
   "cell_type": "code",
   "execution_count": 5,
   "id": "ec400546-7c06-4ca2-9fe1-30d916c7cbdf",
   "metadata": {},
   "outputs": [
    {
     "ename": "KeyError",
     "evalue": "'abc'",
     "output_type": "error",
     "traceback": [
      "\u001b[1;31m---------------------------------------------------------------------------\u001b[0m",
      "\u001b[1;31mKeyError\u001b[0m                                  Traceback (most recent call last)",
      "Cell \u001b[1;32mIn[5], line 1\u001b[0m\n\u001b[1;32m----> 1\u001b[0m student[\u001b[38;5;124m'\u001b[39m\u001b[38;5;124mabc\u001b[39m\u001b[38;5;124m'\u001b[39m]\n",
      "\u001b[1;31mKeyError\u001b[0m: 'abc'"
     ]
    }
   ],
   "source": [
    "\n",
    "student['abc']"
   ]
  },
  {
   "cell_type": "code",
   "execution_count": 10,
   "id": "efbe7ef6-2aa1-442d-8804-34dd1a54278d",
   "metadata": {},
   "outputs": [
    {
     "name": "stdout",
     "output_type": "stream",
     "text": [
      "None\n"
     ]
    }
   ],
   "source": [
    "print(student.get('abc'))"
   ]
  },
  {
   "cell_type": "code",
   "execution_count": 11,
   "id": "f90da3c8-66da-49f5-986f-4b336d51aef1",
   "metadata": {},
   "outputs": [
    {
     "data": {
      "text/plain": [
       "dict_keys(['name', 'age', 'phone_no'])"
      ]
     },
     "execution_count": 11,
     "metadata": {},
     "output_type": "execute_result"
    }
   ],
   "source": [
    "student.keys()"
   ]
  },
  {
   "cell_type": "code",
   "execution_count": 12,
   "id": "2d95efd6-37c4-483d-8627-b3088dc50fe2",
   "metadata": {},
   "outputs": [
    {
     "data": {
      "text/plain": [
       "dict_items([('name', 'saurabh'), ('age', 23), ('phone_no', 8901328662)])"
      ]
     },
     "execution_count": 12,
     "metadata": {},
     "output_type": "execute_result"
    }
   ],
   "source": [
    "student.items()"
   ]
  },
  {
   "cell_type": "code",
   "execution_count": 13,
   "id": "f2387d5d-edee-4ddf-b0d8-266f09ffe701",
   "metadata": {},
   "outputs": [
    {
     "data": {
      "text/plain": [
       "dict_values(['saurabh', 23, 8901328662])"
      ]
     },
     "execution_count": 13,
     "metadata": {},
     "output_type": "execute_result"
    }
   ],
   "source": [
    "student.values()"
   ]
  },
  {
   "cell_type": "code",
   "execution_count": 14,
   "id": "50ed0c38-27a4-4199-aa0e-b2aba4c9eb91",
   "metadata": {},
   "outputs": [
    {
     "data": {
      "text/plain": [
       "0"
      ]
     },
     "execution_count": 14,
     "metadata": {},
     "output_type": "execute_result"
    }
   ],
   "source": [
    "student.get('dwr',0) # returns if not found "
   ]
  },
  {
   "cell_type": "code",
   "execution_count": 15,
   "id": "55771df3-ad63-4b4f-9ea3-a0d5205b8fe0",
   "metadata": {},
   "outputs": [
    {
     "data": {
      "text/plain": [
       "{'name': 'saurabh', 'age': 23, 'phone_no': 8901328662, 'village': 'alawalpur'}"
      ]
     },
     "execution_count": 15,
     "metadata": {},
     "output_type": "execute_result"
    }
   ],
   "source": [
    "# merging a dictionary into another ,  alreading existing key gets updated with the new one \n",
    "dict2={\n",
    "    'village': 'alawalpur'\n",
    "}\n",
    "student.update(dict2)\n",
    "student"
   ]
  },
  {
   "cell_type": "code",
   "execution_count": 16,
   "id": "6a84dc25-5c27-4226-b5d6-0ad0ab73c0a9",
   "metadata": {},
   "outputs": [
    {
     "data": {
      "text/plain": [
       "'alawalpur'"
      ]
     },
     "execution_count": 16,
     "metadata": {},
     "output_type": "execute_result"
    }
   ],
   "source": [
    "student.pop('village')"
   ]
  },
  {
   "cell_type": "code",
   "execution_count": 17,
   "id": "69adc190-8cd2-47dc-bff7-f690bb08f85f",
   "metadata": {},
   "outputs": [
    {
     "data": {
      "text/plain": [
       "{'name': 'saurabh', 'age': 23, 'phone_no': 8901328662}"
      ]
     },
     "execution_count": 17,
     "metadata": {},
     "output_type": "execute_result"
    }
   ],
   "source": [
    "student"
   ]
  },
  {
   "cell_type": "code",
   "execution_count": 18,
   "id": "cb0aa939-8aba-4863-966e-745c067b8cd0",
   "metadata": {},
   "outputs": [
    {
     "data": {
      "text/plain": [
       "('phone_no', 8901328662)"
      ]
     },
     "execution_count": 18,
     "metadata": {},
     "output_type": "execute_result"
    }
   ],
   "source": [
    "student.popitem()"
   ]
  },
  {
   "cell_type": "code",
   "execution_count": 19,
   "id": "af6f8ecf-6045-4ef5-87cc-ef49437f4e11",
   "metadata": {},
   "outputs": [
    {
     "data": {
      "text/plain": [
       "{'name': 'saurabh', 'age': 23}"
      ]
     },
     "execution_count": 19,
     "metadata": {},
     "output_type": "execute_result"
    }
   ],
   "source": [
    "student"
   ]
  },
  {
   "cell_type": "code",
   "execution_count": 20,
   "id": "fd04d4f8-7412-42f6-9bf2-df70e5331cac",
   "metadata": {},
   "outputs": [
    {
     "data": {
      "text/plain": [
       "'palwal'"
      ]
     },
     "execution_count": 20,
     "metadata": {},
     "output_type": "execute_result"
    }
   ],
   "source": [
    "student.setdefault('city','palwal')"
   ]
  },
  {
   "cell_type": "code",
   "execution_count": 21,
   "id": "caac497b-1e68-448b-8434-20ac799e3678",
   "metadata": {},
   "outputs": [
    {
     "name": "stdout",
     "output_type": "stream",
     "text": [
      "name : saurabh\n",
      "age : 23\n",
      "city : palwal\n"
     ]
    }
   ],
   "source": [
    "for key, value in student.items():\n",
    "    print(f\"{key} : {value}\")"
   ]
  },
  {
   "cell_type": "code",
   "execution_count": null,
   "id": "09f2418d-1a40-420e-ba50-777cd45e4fc7",
   "metadata": {},
   "outputs": [],
   "source": []
  }
 ],
 "metadata": {
  "kernelspec": {
   "display_name": "Python [conda env:base] *",
   "language": "python",
   "name": "conda-base-py"
  },
  "language_info": {
   "codemirror_mode": {
    "name": "ipython",
    "version": 3
   },
   "file_extension": ".py",
   "mimetype": "text/x-python",
   "name": "python",
   "nbconvert_exporter": "python",
   "pygments_lexer": "ipython3",
   "version": "3.12.7"
  }
 },
 "nbformat": 4,
 "nbformat_minor": 5
}
