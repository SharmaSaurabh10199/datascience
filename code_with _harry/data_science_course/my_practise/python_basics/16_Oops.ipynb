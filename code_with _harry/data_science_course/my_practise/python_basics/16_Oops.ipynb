{
 "cells": [
  {
   "cell_type": "code",
   "execution_count": 11,
   "id": "e116efe6-cdc2-4386-afce-fdc030429294",
   "metadata": {},
   "outputs": [
    {
     "name": "stdout",
     "output_type": "stream",
     "text": [
      "saurabh , comapny name is hp and salary is 30000\n",
      "hp\n",
      "This time now is: 2025-06-15 12:02:06.344149\n",
      "This time now is: 2025-06-15 12:02:06.344149\n",
      "hp\n"
     ]
    }
   ],
   "source": [
    "from datetime import datetime\n",
    "\n",
    "## class is a blueprint for objects\n",
    "class Employee:\n",
    "    company=\"hp\" # class attributes \n",
    "    def __init__(self,name,salary):\n",
    "        self.name=name  # instance attributes\n",
    "        self.salary=salary  # instance attributes\n",
    "    def print_details(self):\n",
    "        print(f\"{self.name} , comapny name is {self.company} and salary is {self.salary}\")\n",
    "    @staticmethod \n",
    "    def print_time():\n",
    "        print(f\"This time now is: {datetime.now()}\")\n",
    "\n",
    "e= Employee('saurabh','30000')\n",
    "e.print_details()\n",
    "print(e.company)\n",
    "e.print_time() # throws error without @sataticmethod\n",
    "Employee.print_time()  # accesible via class name \n",
    "print(Employee.company) # accessible via class name as well\n",
    "\n"
   ]
  },
  {
   "cell_type": "code",
   "execution_count": 16,
   "id": "2d8cfa15-1574-4f0c-817c-c6f58e535f75",
   "metadata": {},
   "outputs": [
    {
     "name": "stdout",
     "output_type": "stream",
     "text": [
      "8569\n"
     ]
    }
   ],
   "source": [
    "## Encapsulation: \n",
    "class BankAccount:\n",
    "    bank_name=\"sbi\"\n",
    "    def __init__(self,balance,name):\n",
    "        self.__balance=balance\n",
    "        self.name=name\n",
    "\n",
    "    def get_balance(self):\n",
    "        return self.__balance\n",
    "    def deposit(self, amount):\n",
    "        if (amount>0):\n",
    "            self.__balance+=amount\n",
    "\n",
    "account=BankAccount(8569,'saurabh')\n",
    "# print(account.__balance)  # throws error, as this is not accessibl;e publicily\n",
    "print(account.get_balance())\n",
    "account.deposit(35)"
   ]
  },
  {
   "cell_type": "code",
   "execution_count": 22,
   "id": "faf44093-8ac0-473d-8cdb-d3f343fb7554",
   "metadata": {},
   "outputs": [
    {
     "name": "stdout",
     "output_type": "stream",
     "text": [
      "doggo walks\n"
     ]
    }
   ],
   "source": [
    "## Inheritanc e\n",
    "class Mammals:\n",
    "    pass\n",
    "\n",
    "class Animal:\n",
    "    def walk(self):\n",
    "        print(\"animal walk\")\n",
    "\n",
    "class Doggo(Animal, Mammals):  # multiple inheritance is possible in python the order of resolution is Animal, Mammal so there is no dimond problem here like java\n",
    "    def walk(self):\n",
    "        print(\"doggo walks\")\n",
    "\n",
    "\n",
    "d=Doggo()\n",
    "d.walk()\n",
    "        "
   ]
  },
  {
   "cell_type": "code",
   "execution_count": 21,
   "id": "56a58e78-9242-484c-9be0-1652da9cf7fc",
   "metadata": {},
   "outputs": [
    {
     "name": "stdout",
     "output_type": "stream",
     "text": [
      "penguine flies\n"
     ]
    }
   ],
   "source": [
    "## polymorphism \n",
    "class Bird:\n",
    "    def fly(self):\n",
    "        print(\"birds fly\")\n",
    "\n",
    "class Penguine(Bird):\n",
    "    def fly(self):\n",
    "        print(\"penguine flies\")\n",
    "\n",
    "p= Penguine()\n",
    "p.fly()"
   ]
  },
  {
   "cell_type": "code",
   "execution_count": 25,
   "id": "ba01db9a-f8a3-467b-b4ec-6ac5bb37992f",
   "metadata": {},
   "outputs": [
    {
     "name": "stdout",
     "output_type": "stream",
     "text": [
      "9\n"
     ]
    }
   ],
   "source": [
    "## Abstract methods \n",
    "from abc import ABCMeta, abstractmethod\n",
    "class Shape:\n",
    "    @abstractmethod\n",
    "    def area():\n",
    "        pass\n",
    "\n",
    "class Square(Shape):\n",
    "    def area(self, side):\n",
    "        return side*side\n",
    "\n",
    "s=Square()\n",
    "print(s.area(3))\n",
    "        "
   ]
  },
  {
   "cell_type": "code",
   "execution_count": 26,
   "id": "131ad54b-fc77-4504-86c3-9a8bc4e8aa79",
   "metadata": {},
   "outputs": [
    {
     "name": "stdout",
     "output_type": "stream",
     "text": [
      "'Python Basics' by Alice, 300 pages\n",
      "'Advanced Python' by Bob, 400 pages\n",
      "Total pages: 700\n"
     ]
    }
   ],
   "source": [
    "class Book:\n",
    "    def __init__(self, title, author, pages):\n",
    "        self.title = title\n",
    "        self.author = author\n",
    "        self.pages = pages\n",
    "    \n",
    "    def __str__(self):\n",
    "        return f\"'{self.title}' by {self.author}, {self.pages} pages\"\n",
    "\n",
    "    def __add__(self, other):\n",
    "        if isinstance(other, Book):\n",
    "            return self.pages + other.pages\n",
    "        return NotImplemented\n",
    "\n",
    "# Creating book objects\n",
    "book1 = Book(\"Python Basics\", \"Alice\", 300)\n",
    "book2 = Book(\"Advanced Python\", \"Bob\", 400)\n",
    "\n",
    "# Using magic methods\n",
    "print(book1)  # Calls __str__  # by default python look for the string method inside of the class \n",
    "print(book2)  # Calls __str__\n",
    "print(\"Total pages:\", book1 + book2)  # Calls __add__ # similar here "
   ]
  }
 ],
 "metadata": {
  "kernelspec": {
   "display_name": "Python [conda env:base] *",
   "language": "python",
   "name": "conda-base-py"
  },
  "language_info": {
   "codemirror_mode": {
    "name": "ipython",
    "version": 3
   },
   "file_extension": ".py",
   "mimetype": "text/x-python",
   "name": "python",
   "nbconvert_exporter": "python",
   "pygments_lexer": "ipython3",
   "version": "3.12.7"
  }
 },
 "nbformat": 4,
 "nbformat_minor": 5
}
