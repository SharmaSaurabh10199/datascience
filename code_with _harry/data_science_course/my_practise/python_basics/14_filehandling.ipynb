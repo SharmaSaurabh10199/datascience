{
 "cells": [
  {
   "cell_type": "code",
   "execution_count": 4,
   "id": "d9291e38-5d22-41a1-907a-0c761c756027",
   "metadata": {},
   "outputs": [
    {
     "data": {
      "text/plain": [
       "'sample file here\\nmonu is a good boy\\nsonu is the brother of monu\\npriyanka is a badddie '"
      ]
     },
     "execution_count": 4,
     "metadata": {},
     "output_type": "execute_result"
    }
   ],
   "source": [
    "## FIle handling in python \n",
    "file=open(\"sample.txt\",\"r\" )\n",
    "file.read()\n"
   ]
  },
  {
   "cell_type": "code",
   "execution_count": 2,
   "id": "d6c438a9-5402-4b66-b6be-7a99038905cb",
   "metadata": {},
   "outputs": [],
   "source": [
    "file.close()"
   ]
  },
  {
   "cell_type": "code",
   "execution_count": 3,
   "id": "734e2d89-b011-4733-b93f-9b2a5def4b87",
   "metadata": {},
   "outputs": [
    {
     "ename": "ValueError",
     "evalue": "I/O operation on closed file.",
     "output_type": "error",
     "traceback": [
      "\u001b[1;31m---------------------------------------------------------------------------\u001b[0m",
      "\u001b[1;31mValueError\u001b[0m                                Traceback (most recent call last)",
      "Cell \u001b[1;32mIn[3], line 1\u001b[0m\n\u001b[1;32m----> 1\u001b[0m file\u001b[38;5;241m.\u001b[39mread()\n",
      "\u001b[1;31mValueError\u001b[0m: I/O operation on closed file."
     ]
    }
   ],
   "source": [
    "file.read()"
   ]
  },
  {
   "cell_type": "code",
   "execution_count": 8,
   "id": "1ab7e5e0-572b-4d35-baf2-0cb5db8bfb7e",
   "metadata": {},
   "outputs": [
    {
     "name": "stdout",
     "output_type": "stream",
     "text": [
      "['sample file here\\n', 'monu is a good boy\\n', 'sonu is the brother of monu\\n', 'priyanka is a badddie ']\n"
     ]
    }
   ],
   "source": [
    "\n",
    "file = open(\"sample.txt\", \"r\")\n",
    "lines = file.readlines()  # Reads all lines into a list\n",
    "print(lines)\n",
    "file.close()"
   ]
  },
  {
   "cell_type": "code",
   "execution_count": 17,
   "id": "f2aa46e8-7493-46a8-80e6-91f162e4fb1a",
   "metadata": {},
   "outputs": [
    {
     "name": "stdout",
     "output_type": "stream",
     "text": [
      "sample file here\n",
      "monu is a good boy\n",
      "sonu is the brother of monu\n",
      "priyanka is a badddie added sample textadded sample textravi kumar from buxar bihar\n"
     ]
    }
   ],
   "source": [
    "## append mode\n",
    "with open(\"sample.txt\",\"r\") as fl:\n",
    "    print(fl.read())"
   ]
  },
  {
   "cell_type": "code",
   "execution_count": 18,
   "id": "473baae0-c2c7-42a3-8de9-c691d70f2e76",
   "metadata": {},
   "outputs": [
    {
     "name": "stdout",
     "output_type": "stream",
     "text": [
      "27\n"
     ]
    }
   ],
   "source": [
    "## append mode\n",
    "with open(\"sample.txt\",\"a\") as fl:\n",
    "    print(fl.write(\"ravi kumar from buxar bihar\"))"
   ]
  },
  {
   "cell_type": "code",
   "execution_count": 20,
   "id": "49acda6b-138e-4751-84f7-dff58773e8a8",
   "metadata": {},
   "outputs": [
    {
     "name": "stdout",
     "output_type": "stream",
     "text": [
      "file exists\n"
     ]
    }
   ],
   "source": [
    "## checking if the path exits \n",
    "import os \n",
    "if os.path.exists(\"sample.txt\"):\n",
    "    print(\"file exists\")"
   ]
  },
  {
   "cell_type": "code",
   "execution_count": null,
   "id": "34369b3c-b6ec-4b9b-90c4-52ba6b9002ed",
   "metadata": {},
   "outputs": [],
   "source": []
  }
 ],
 "metadata": {
  "kernelspec": {
   "display_name": "Python [conda env:base] *",
   "language": "python",
   "name": "conda-base-py"
  },
  "language_info": {
   "codemirror_mode": {
    "name": "ipython",
    "version": 3
   },
   "file_extension": ".py",
   "mimetype": "text/x-python",
   "name": "python",
   "nbconvert_exporter": "python",
   "pygments_lexer": "ipython3",
   "version": "3.12.7"
  }
 },
 "nbformat": 4,
 "nbformat_minor": 5
}
