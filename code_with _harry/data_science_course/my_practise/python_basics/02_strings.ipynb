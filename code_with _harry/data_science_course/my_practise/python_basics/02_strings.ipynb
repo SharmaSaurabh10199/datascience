{
 "cells": [
  {
   "cell_type": "code",
   "execution_count": 1,
   "id": "03464829-4d4d-4bc7-829f-486cbffe682d",
   "metadata": {},
   "outputs": [],
   "source": [
    "name=\"harry\""
   ]
  },
  {
   "cell_type": "code",
   "execution_count": 2,
   "id": "3fcf3918-986f-4ce6-b89f-94faae6a29ee",
   "metadata": {},
   "outputs": [
    {
     "data": {
      "text/plain": [
       "'harry'"
      ]
     },
     "execution_count": 2,
     "metadata": {},
     "output_type": "execute_result"
    }
   ],
   "source": [
    "name"
   ]
  },
  {
   "cell_type": "code",
   "execution_count": 3,
   "id": "32489832-5218-467e-9f03-c3100b5e8732",
   "metadata": {},
   "outputs": [
    {
     "data": {
      "text/plain": [
       "'HARRY'"
      ]
     },
     "execution_count": 3,
     "metadata": {},
     "output_type": "execute_result"
    }
   ],
   "source": [
    "name.upper()"
   ]
  },
  {
   "cell_type": "code",
   "execution_count": 4,
   "id": "3d892880-f3bf-4ccf-a2c3-e9831a9b95b3",
   "metadata": {},
   "outputs": [
    {
     "data": {
      "text/plain": [
       "False"
      ]
     },
     "execution_count": 4,
     "metadata": {},
     "output_type": "execute_result"
    }
   ],
   "source": [
    "name.endswith(\"jry\")"
   ]
  },
  {
   "cell_type": "code",
   "execution_count": 5,
   "id": "03d58339-7523-4608-86a0-acc4a0e12c59",
   "metadata": {},
   "outputs": [
    {
     "data": {
      "text/plain": [
       "'harry'"
      ]
     },
     "execution_count": 5,
     "metadata": {},
     "output_type": "execute_result"
    }
   ],
   "source": [
    " name.lower()"
   ]
  },
  {
   "cell_type": "code",
   "execution_count": 8,
   "id": "fb305c77-33c7-483a-9870-7be3f1e7802f",
   "metadata": {},
   "outputs": [
    {
     "data": {
      "text/plain": [
       "1"
      ]
     },
     "execution_count": 8,
     "metadata": {},
     "output_type": "execute_result"
    }
   ],
   "source": [
    "name.count(\"a\")\n",
    " "
   ]
  },
  {
   "cell_type": "code",
   "execution_count": 9,
   "id": "e202754e-65bd-4b5d-847f-e7a83ac0932e",
   "metadata": {},
   "outputs": [
    {
     "ename": "TypeError",
     "evalue": "count() takes at least 1 argument (0 given)",
     "output_type": "error",
     "traceback": [
      "\u001b[1;31m---------------------------------------------------------------------------\u001b[0m",
      "\u001b[1;31mTypeError\u001b[0m                                 Traceback (most recent call last)",
      "Cell \u001b[1;32mIn[9], line 1\u001b[0m\n\u001b[1;32m----> 1\u001b[0m name\u001b[38;5;241m.\u001b[39mcount()\n",
      "\u001b[1;31mTypeError\u001b[0m: count() takes at least 1 argument (0 given)"
     ]
    }
   ],
   "source": [
    "name.count()"
   ]
  },
  {
   "cell_type": "code",
   "execution_count": 10,
   "id": "7a3d5bc7-ed5e-406e-8680-a357135c70ee",
   "metadata": {},
   "outputs": [
    {
     "data": {
      "text/plain": [
       "'harr'"
      ]
     },
     "execution_count": 10,
     "metadata": {},
     "output_type": "execute_result"
    }
   ],
   "source": [
    "name[0:4]"
   ]
  },
  {
   "cell_type": "code",
   "execution_count": 11,
   "id": "29932f76-25e6-4994-9520-6bfd897800fb",
   "metadata": {},
   "outputs": [
    {
     "data": {
      "text/plain": [
       "'y'"
      ]
     },
     "execution_count": 11,
     "metadata": {},
     "output_type": "execute_result"
    }
   ],
   "source": [
    "# negtive index\n",
    "name[-1]\n"
   ]
  },
  {
   "cell_type": "code",
   "execution_count": 12,
   "id": "fbfee05b-af9e-4829-9c4e-eef49f356812",
   "metadata": {},
   "outputs": [
    {
     "data": {
      "text/plain": [
       "'arr'"
      ]
     },
     "execution_count": 12,
     "metadata": {},
     "output_type": "execute_result"
    }
   ],
   "source": [
    "name[1:-1]"
   ]
  },
  {
   "cell_type": "code",
   "execution_count": 13,
   "id": "90f8c018-e5c2-4a3a-81a0-63814a829290",
   "metadata": {},
   "outputs": [
    {
     "data": {
      "text/plain": [
       "'harry'"
      ]
     },
     "execution_count": 13,
     "metadata": {},
     "output_type": "execute_result"
    }
   ],
   "source": [
    "name[0:6]"
   ]
  },
  {
   "cell_type": "code",
   "execution_count": 15,
   "id": "e5bbd7e3-d538-4ae5-94b6-e23058cb3bac",
   "metadata": {},
   "outputs": [
    {
     "data": {
      "text/plain": [
       "'harry'"
      ]
     },
     "execution_count": 15,
     "metadata": {},
     "output_type": "execute_result"
    }
   ],
   "source": [
    "# prints the reversed string\n",
    "name[-5:]"
   ]
  },
  {
   "cell_type": "code",
   "execution_count": 17,
   "id": "bca4986b-b26b-4a7a-80a3-3cf552a5081b",
   "metadata": {},
   "outputs": [
    {
     "data": {
      "text/plain": [
       "'This is \\na dog '"
      ]
     },
     "execution_count": 17,
     "metadata": {},
     "output_type": "execute_result"
    }
   ],
   "source": [
    "# multiline string \n",
    "message=\"\"\"This is \n",
    "a dog \"\"\"\n",
    "message\n"
   ]
  },
  {
   "cell_type": "code",
   "execution_count": 18,
   "id": "9dfeb571-2973-4b73-b4d0-a7b884174353",
   "metadata": {},
   "outputs": [
    {
     "ename": "SyntaxError",
     "evalue": "unterminated string literal (detected at line 1) (351697387.py, line 1)",
     "output_type": "error",
     "traceback": [
      "\u001b[1;36m  Cell \u001b[1;32mIn[18], line 1\u001b[1;36m\u001b[0m\n\u001b[1;33m    message2=\"this is a\u001b[0m\n\u001b[1;37m             ^\u001b[0m\n\u001b[1;31mSyntaxError\u001b[0m\u001b[1;31m:\u001b[0m unterminated string literal (detected at line 1)\n"
     ]
    }
   ],
   "source": [
    "message2=\"this is a \n",
    "cat\""
   ]
  },
  {
   "cell_type": "code",
   "execution_count": 19,
   "id": "51a71637-b7e4-4229-ae1e-490ff9219c67",
   "metadata": {},
   "outputs": [
    {
     "ename": "TypeError",
     "evalue": "'str' object does not support item assignment",
     "output_type": "error",
     "traceback": [
      "\u001b[1;31m---------------------------------------------------------------------------\u001b[0m",
      "\u001b[1;31mTypeError\u001b[0m                                 Traceback (most recent call last)",
      "Cell \u001b[1;32mIn[19], line 2\u001b[0m\n\u001b[0;32m      1\u001b[0m \u001b[38;5;66;03m# strings cannot be changed \u001b[39;00m\n\u001b[1;32m----> 2\u001b[0m message[\u001b[38;5;241m0\u001b[39m]\u001b[38;5;241m=\u001b[39m\u001b[38;5;124m'\u001b[39m\u001b[38;5;124mrsg\u001b[39m\u001b[38;5;124m'\u001b[39m\n",
      "\u001b[1;31mTypeError\u001b[0m: 'str' object does not support item assignment"
     ]
    }
   ],
   "source": [
    "# strings cannot be changed \n",
    "message[0]='rsg'"
   ]
  },
  {
   "cell_type": "code",
   "execution_count": 20,
   "id": "8c2c7248-e9bd-42af-b7a0-529a6fda615a",
   "metadata": {},
   "outputs": [
    {
     "data": {
      "text/plain": [
       "'the message is : This is \\na dog '"
      ]
     },
     "execution_count": 20,
     "metadata": {},
     "output_type": "execute_result"
    }
   ],
   "source": [
    "# string formatting \n",
    "f\"the message is : {message}\""
   ]
  },
  {
   "cell_type": "code",
   "execution_count": null,
   "id": "a750e247-4593-4f99-bd1d-6dc984748e6f",
   "metadata": {},
   "outputs": [],
   "source": []
  }
 ],
 "metadata": {
  "kernelspec": {
   "display_name": "Python [conda env:base] *",
   "language": "python",
   "name": "conda-base-py"
  },
  "language_info": {
   "codemirror_mode": {
    "name": "ipython",
    "version": 3
   },
   "file_extension": ".py",
   "mimetype": "text/x-python",
   "name": "python",
   "nbconvert_exporter": "python",
   "pygments_lexer": "ipython3",
   "version": "3.12.7"
  }
 },
 "nbformat": 4,
 "nbformat_minor": 5
}
