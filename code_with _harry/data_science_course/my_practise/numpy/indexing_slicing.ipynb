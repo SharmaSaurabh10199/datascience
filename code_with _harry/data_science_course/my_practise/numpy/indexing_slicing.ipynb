{
 "cells": [
  {
   "cell_type": "code",
   "execution_count": 1,
   "id": "9160c5f4-05da-4de6-8f99-49aa0b26a441",
   "metadata": {},
   "outputs": [],
   "source": [
    "import numpy as np \n"
   ]
  },
  {
   "cell_type": "code",
   "execution_count": 44,
   "id": "640997d9-b062-412d-9180-0f9e036db09a",
   "metadata": {},
   "outputs": [],
   "source": [
    "array= np.array([[1,2,3],[4,5,6],[7,8,9],[10,11,12]])"
   ]
  },
  {
   "cell_type": "code",
   "execution_count": 6,
   "id": "78dd3f4d-3136-4e80-9957-5c7be8dd10d4",
   "metadata": {},
   "outputs": [],
   "source": [
    "flat=array.flatten()"
   ]
  },
  {
   "cell_type": "code",
   "execution_count": 7,
   "id": "3ceae29c-edfb-4e11-948e-4190c75fefd4",
   "metadata": {},
   "outputs": [
    {
     "data": {
      "text/plain": [
       "array([ 1,  2,  3,  4,  5,  6,  7,  8,  9, 10, 11, 12])"
      ]
     },
     "execution_count": 7,
     "metadata": {},
     "output_type": "execute_result"
    }
   ],
   "source": [
    "flat"
   ]
  },
  {
   "cell_type": "code",
   "execution_count": 8,
   "id": "2a5acc10-86a3-4372-ab2f-d948c179960c",
   "metadata": {},
   "outputs": [
    {
     "data": {
      "text/plain": [
       "1"
      ]
     },
     "execution_count": 8,
     "metadata": {},
     "output_type": "execute_result"
    }
   ],
   "source": [
    "flat[0]"
   ]
  },
  {
   "cell_type": "code",
   "execution_count": 9,
   "id": "4b2c3f67-c41b-4553-8a6a-d91dfbb65e74",
   "metadata": {},
   "outputs": [
    {
     "data": {
      "text/plain": [
       "array([1, 2, 3])"
      ]
     },
     "execution_count": 9,
     "metadata": {},
     "output_type": "execute_result"
    }
   ],
   "source": [
    "flat[:3] # same as flat[0:3]"
   ]
  },
  {
   "cell_type": "code",
   "execution_count": 10,
   "id": "24f64e9a-65ad-42b4-ab16-501f3fca74ac",
   "metadata": {},
   "outputs": [
    {
     "data": {
      "text/plain": [
       "array([ 1,  3,  5,  7,  9, 11])"
      ]
     },
     "execution_count": 10,
     "metadata": {},
     "output_type": "execute_result"
    }
   ],
   "source": [
    "## evaery second elemmt \n",
    "flat[::2]"
   ]
  },
  {
   "cell_type": "code",
   "execution_count": 17,
   "id": "2773ff92-8e9e-4e44-ab22-f2be0d3c078f",
   "metadata": {},
   "outputs": [
    {
     "name": "stdout",
     "output_type": "stream",
     "text": [
      "[ 1  2  3  4  5  6  7  8  9 10 11 12]\n"
     ]
    },
    {
     "data": {
      "text/plain": [
       "2"
      ]
     },
     "execution_count": 17,
     "metadata": {},
     "output_type": "execute_result"
    }
   ],
   "source": [
    "## slicing in numpy \n",
    "#note: slicing in numpy returns a view, not a copy\n",
    "# which is not in the case of list \n",
    "print(flat)\n",
    "b=flat[4:6]\n",
    "\n",
    "len(b)"
   ]
  },
  {
   "cell_type": "code",
   "execution_count": 18,
   "id": "52c99130-c32a-4911-96f7-dce693c8fa54",
   "metadata": {},
   "outputs": [],
   "source": [
    "b[0]=78"
   ]
  },
  {
   "cell_type": "code",
   "execution_count": 19,
   "id": "320a8a16-b667-4f3e-baa6-3e01a0a4c928",
   "metadata": {},
   "outputs": [
    {
     "data": {
      "text/plain": [
       "array([ 1,  2,  3,  4, 78,  6,  7,  8,  9, 10, 11, 12])"
      ]
     },
     "execution_count": 19,
     "metadata": {},
     "output_type": "execute_result"
    }
   ],
   "source": [
    "flat"
   ]
  },
  {
   "cell_type": "code",
   "execution_count": 21,
   "id": "71272120-158a-410a-b0eb-6c7b46bac8de",
   "metadata": {},
   "outputs": [],
   "source": [
    "## we can use a copy instead \n",
    "c=flat[4:6].copy()"
   ]
  },
  {
   "cell_type": "code",
   "execution_count": 23,
   "id": "fde42550-bf9a-4ae7-9219-107bd3653d37",
   "metadata": {},
   "outputs": [],
   "source": [
    "c[0]=90"
   ]
  },
  {
   "cell_type": "code",
   "execution_count": 24,
   "id": "5c229d6f-91fe-444d-83fa-e5addd127f57",
   "metadata": {},
   "outputs": [
    {
     "data": {
      "text/plain": [
       "array([ 1,  2,  3,  4, 78,  6,  7,  8,  9, 10, 11, 12])"
      ]
     },
     "execution_count": 24,
     "metadata": {},
     "output_type": "execute_result"
    }
   ],
   "source": [
    "flat"
   ]
  },
  {
   "cell_type": "code",
   "execution_count": 27,
   "id": "af694326-49a6-42b4-8a35-52633e7604a4",
   "metadata": {},
   "outputs": [],
   "source": [
    "## Exercises \n",
    "# create a 3*3 array with random in\n",
    "arr=np.random.rand(3,4)"
   ]
  },
  {
   "cell_type": "code",
   "execution_count": 28,
   "id": "1fe9df96-23fa-4399-be71-dac26247c71a",
   "metadata": {},
   "outputs": [
    {
     "data": {
      "text/plain": [
       "array([[0.83608709, 0.94666469, 0.16869811, 0.92866187],\n",
       "       [0.43125118, 0.23167406, 0.50386918, 0.84623417],\n",
       "       [0.20109016, 0.60713708, 0.31977166, 0.73020375]])"
      ]
     },
     "execution_count": 28,
     "metadata": {},
     "output_type": "execute_result"
    }
   ],
   "source": [
    "arr"
   ]
  },
  {
   "cell_type": "code",
   "execution_count": 29,
   "id": "7d0b478f-39ea-40bf-be18-d0fbd5341d94",
   "metadata": {},
   "outputs": [
    {
     "data": {
      "text/plain": [
       "(3, 4)"
      ]
     },
     "execution_count": 29,
     "metadata": {},
     "output_type": "execute_result"
    }
   ],
   "source": [
    "arr.shape\n"
   ]
  },
  {
   "cell_type": "code",
   "execution_count": 37,
   "id": "5af82f33-ba92-4703-b62b-66cdb8099e16",
   "metadata": {},
   "outputs": [],
   "source": [
    "arr1=np.array([1.1, 2.2, 3.6])"
   ]
  },
  {
   "cell_type": "code",
   "execution_count": 31,
   "id": "bcf58f40-dc7c-47d2-9346-0078ad5eb167",
   "metadata": {},
   "outputs": [
    {
     "data": {
      "text/plain": [
       "array([1.1, 2.2, 3.3])"
      ]
     },
     "execution_count": 31,
     "metadata": {},
     "output_type": "execute_result"
    }
   ],
   "source": [
    "arr1"
   ]
  },
  {
   "cell_type": "code",
   "execution_count": 38,
   "id": "c8ec5a84-6abc-44a6-9bb8-a78f80a92b74",
   "metadata": {},
   "outputs": [
    {
     "data": {
      "text/plain": [
       "array([1, 2, 3])"
      ]
     },
     "execution_count": 38,
     "metadata": {},
     "output_type": "execute_result"
    }
   ],
   "source": [
    "flot_array= arr1.astype(int)\n",
    "flot_array"
   ]
  },
  {
   "cell_type": "code",
   "execution_count": 40,
   "id": "6b827fad-1942-4138-b0ce-31dd563c331e",
   "metadata": {},
   "outputs": [],
   "source": [
    "# fancy indexing \n",
    "nums=np.array([1, 2, 3, 4, 5, 6])"
   ]
  },
  {
   "cell_type": "code",
   "execution_count": 45,
   "id": "dd36ccde-8e99-4794-8941-34122c28196a",
   "metadata": {},
   "outputs": [
    {
     "data": {
      "text/plain": [
       "array([2, 4, 6])"
      ]
     },
     "execution_count": 45,
     "metadata": {},
     "output_type": "execute_result"
    }
   ],
   "source": [
    "nums[nums%2==0]"
   ]
  },
  {
   "cell_type": "code",
   "execution_count": 47,
   "id": "021b2a87-0dc6-4618-b1fc-e4f82a0f8394",
   "metadata": {},
   "outputs": [
    {
     "data": {
      "text/plain": [
       "array([[1, 2, 3],\n",
       "       [4, 5, 6],\n",
       "       [7, 8, 9]])"
      ]
     },
     "execution_count": 47,
     "metadata": {},
     "output_type": "execute_result"
    }
   ],
   "source": [
    "to_reshape=np.array([1,2,3,4,5,6,7,8,9])\n",
    "reshaped= to_reshape.reshape((3,3))\n",
    "reshaped"
   ]
  }
 ],
 "metadata": {
  "kernelspec": {
   "display_name": "Python [conda env:base] *",
   "language": "python",
   "name": "conda-base-py"
  },
  "language_info": {
   "codemirror_mode": {
    "name": "ipython",
    "version": 3
   },
   "file_extension": ".py",
   "mimetype": "text/x-python",
   "name": "python",
   "nbconvert_exporter": "python",
   "pygments_lexer": "ipython3",
   "version": "3.12.7"
  }
 },
 "nbformat": 4,
 "nbformat_minor": 5
}
