import numpy as np
arr=[1,2,3,4,5,6,55,30,0,10]


np.mean(arr)


np.max(arr)



np.min(arr)


np.argmin(arr)


np.std(arr)


np.var(arr)


np.sum(arr)


np.product(arr)


np.median(arr)



