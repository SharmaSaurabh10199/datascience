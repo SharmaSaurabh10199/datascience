{
 "cells": [
  {
   "cell_type": "code",
   "execution_count": 1,
   "id": "cd28e50b-0bd5-4b32-837e-630e28ebd1b8",
   "metadata": {},
   "outputs": [],
   "source": [
    "import numpy as np "
   ]
  },
  {
   "cell_type": "code",
   "execution_count": 3,
   "id": "f020a6ef-9f94-41b5-833c-8c8ce7325eb4",
   "metadata": {},
   "outputs": [],
   "source": [
    "# using string datatype in numpy \n",
    "arrstr=np.array(['kalu','madari','swarnika'],dtype='str')"
   ]
  },
  {
   "cell_type": "code",
   "execution_count": 4,
   "id": "44091eb1-87a3-45ec-9b90-41c64d30a67e",
   "metadata": {},
   "outputs": [
    {
     "data": {
      "text/plain": [
       "array(['kalu', 'madari', 'swarnika'], dtype='<U8')"
      ]
     },
     "execution_count": 4,
     "metadata": {},
     "output_type": "execute_result"
    }
   ],
   "source": [
    "arrstr"
   ]
  },
  {
   "cell_type": "code",
   "execution_count": 5,
   "id": "6ee86d7c-08e5-4704-962a-af25e23f9199",
   "metadata": {},
   "outputs": [],
   "source": [
    "# complex numbers \n",
    "arr_complex= np.array([1+6j,2+5j],dtype='complex64')"
   ]
  },
  {
   "cell_type": "code",
   "execution_count": 6,
   "id": "172e9e65-9619-47f1-a188-94b093f8ae98",
   "metadata": {},
   "outputs": [
    {
     "data": {
      "text/plain": [
       "array([1.+6.j, 2.+5.j], dtype=complex64)"
      ]
     },
     "execution_count": 6,
     "metadata": {},
     "output_type": "execute_result"
    }
   ],
   "source": [
    "arr_complex"
   ]
  },
  {
   "cell_type": "code",
   "execution_count": 9,
   "id": "edf667a3-0292-4f44-96b9-f66cb6d84089",
   "metadata": {},
   "outputs": [],
   "source": [
    "# object as datatype \n",
    "arr_objects=np.array([[1,2,3],{'as':2}],dtype='object')"
   ]
  },
  {
   "cell_type": "code",
   "execution_count": 10,
   "id": "6e0e97bb-28d1-401c-86cf-7590ad39f639",
   "metadata": {},
   "outputs": [
    {
     "data": {
      "text/plain": [
       "array([list([1, 2, 3]), {'as': 2}], dtype=object)"
      ]
     },
     "execution_count": 10,
     "metadata": {},
     "output_type": "execute_result"
    }
   ],
   "source": [
    "arr_objects"
   ]
  }
 ],
 "metadata": {
  "kernelspec": {
   "display_name": "Python [conda env:base] *",
   "language": "python",
   "name": "conda-base-py"
  },
  "language_info": {
   "codemirror_mode": {
    "name": "ipython",
    "version": 3
   },
   "file_extension": ".py",
   "mimetype": "text/x-python",
   "name": "python",
   "nbconvert_exporter": "python",
   "pygments_lexer": "ipython3",
   "version": "3.12.7"
  }
 },
 "nbformat": 4,
 "nbformat_minor": 5
}
