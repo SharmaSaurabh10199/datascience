{
 "cells": [
  {
   "cell_type": "code",
   "execution_count": 2,
   "id": "5f14f7e5-4f19-4ff8-9bdd-d2fa60e40408",
   "metadata": {},
   "outputs": [],
   "source": [
    "import numpy as np\n",
    "import time"
   ]
  },
  {
   "cell_type": "code",
   "execution_count": 4,
   "id": "de1a9fee-689d-453f-ac39-d224926e658d",
   "metadata": {},
   "outputs": [],
   "source": [
    "\n",
    "# Python zip \n",
    "l1=[1,2,3] \n",
    "l2=[4,5,6]\n",
    "list(zip(l1,l2))"
   ]
  },
  {
   "cell_type": "code",
   "execution_count": 5,
   "id": "36a28d82-dc02-4083-ab63-73a0300d3482",
   "metadata": {},
   "outputs": [
    {
     "data": {
      "text/plain": [
       "[(1, 4), (2, 5), (3, 6)]"
      ]
     },
     "execution_count": 5,
     "metadata": {},
     "output_type": "execute_result"
    }
   ],
   "source": []
  },
  {
   "cell_type": "code",
   "execution_count": 14,
   "id": "39b6afb7-9e27-45ca-99ef-d9719d8ee12a",
   "metadata": {},
   "outputs": [],
   "source": [
    " # initialize big size lists\n",
    "size=1_000_000_0\n",
    "list1= list(range(size))\n",
    "list2= list(range(size))\n"
   ]
  },
  {
   "cell_type": "code",
   "execution_count": 15,
   "id": "d90d8b76-ffb2-4b18-98fc-465e8053036b",
   "metadata": {},
   "outputs": [
    {
     "name": "stdout",
     "output_type": "stream",
     "text": [
      "1.1623330116271973\n"
     ]
    }
   ],
   "source": [
    "\n",
    "# for lists\n",
    "start=time.time()\n",
    "l3= [x+y for x,y in zip(list1,list2)]\n",
    "end= time.time()\n",
    "print(end-start)"
   ]
  },
  {
   "cell_type": "code",
   "execution_count": 18,
   "id": "16ffd8f6-237d-4b6f-8cd1-670cce3de2cd",
   "metadata": {},
   "outputs": [
    {
     "name": "stdout",
     "output_type": "stream",
     "text": [
      "0.03121471405029297\n"
     ]
    }
   ],
   "source": [
    "# for numpy \n",
    "arr1= np.array(list1)\n",
    "arr2= np.array(list2)\n",
    "start= time.time()\n",
    "arr3= arr1+arr2\n",
    "end= time.time()\n",
    "print(end-start)\n",
    "               \n"
   ]
  },
  {
   "cell_type": "code",
   "execution_count": 22,
   "id": "e8925f30-4caa-42c7-b47c-0fa8616cce26",
   "metadata": {},
   "outputs": [
    {
     "name": "stdout",
     "output_type": "stream",
     "text": [
      "[[1 2 3]\n",
      " [3 4 5]]\n"
     ]
    }
   ],
   "source": [
    "# 2-d array \n",
    "aray2d= np.array([[1,2,3],[3,4,5]])\n",
    "print(aray2d)"
   ]
  },
  {
   "cell_type": "code",
   "execution_count": 23,
   "id": "4fb3f87c-6f94-4df3-9a64-a8ae16065a72",
   "metadata": {},
   "outputs": [
    {
     "data": {
      "text/plain": [
       "numpy.ndarray"
      ]
     },
     "execution_count": 23,
     "metadata": {},
     "output_type": "execute_result"
    }
   ],
   "source": [
    "type(aray2d)"
   ]
  },
  {
   "cell_type": "code",
   "execution_count": 26,
   "id": "8de34119-ac29-4f4d-97e4-29c74392bf2f",
   "metadata": {},
   "outputs": [
    {
     "name": "stdout",
     "output_type": "stream",
     "text": [
      "(2, 3)\n"
     ]
    }
   ],
   "source": [
    "print(aray2d.shape)\n"
   ]
  },
  {
   "cell_type": "code",
   "execution_count": 27,
   "id": "378e2225-3921-4cae-87a6-bcb634b61770",
   "metadata": {},
   "outputs": [
    {
     "name": "stdout",
     "output_type": "stream",
     "text": [
      "Python list size: 8056000 bytes\n",
      "NumPy array size: 4000 bytes\n"
     ]
    }
   ],
   "source": [
    "## memeory efficiency in numpy \n",
    "import sys\n",
    "\n",
    "list_data = list(range(1000))\n",
    "numpy_data = np.array(list_data)\n",
    "\n",
    "print(\"Python list size:\", sys.getsizeof(list_data) * len(list_data), \"bytes\")\n",
    "print(\"NumPy array size:\", numpy_data.nbytes, \"bytes\")"
   ]
  },
  {
   "cell_type": "code",
   "execution_count": 32,
   "id": "eb4040e8-c1ff-4db3-8758-e955d9c8ff14",
   "metadata": {},
   "outputs": [
    {
     "name": "stdout",
     "output_type": "stream",
     "text": [
      "0.0029993057250976562\n"
     ]
    }
   ],
   "source": [
    "# another example of time \n",
    "lst=list(range(10000))\n",
    "start= time.time()\n",
    "squared_lst=[x**2 for x in lst]\n",
    "end = time.time()\n",
    "print(end-start)\n"
   ]
  },
  {
   "cell_type": "code",
   "execution_count": 39,
   "id": "d4115a70-5d90-4fdf-bb17-ee4609395f68",
   "metadata": {},
   "outputs": [
    {
     "name": "stdout",
     "output_type": "stream",
     "text": [
      "0.0\n"
     ]
    }
   ],
   "source": [
    "arr_tmp=np.array(lst)\n",
    "start1= time.time()\n",
    "np_squared= arr_tmp**2\n",
    "end1 = time.time()\n",
    "print(end1-start1)"
   ]
  },
  {
   "cell_type": "code",
   "execution_count": 38,
   "id": "bd7d402f-a4f8-4ca1-8a24-1d29cc11b8c5",
   "metadata": {},
   "outputs": [
    {
     "name": "stdout",
     "output_type": "stream",
     "text": [
      "0.0\n"
     ]
    }
   ],
   "source": [
    "start1= time.time()\n",
    "np_squared= arr_tmp**2\n",
    "end1 = time.time()\n",
    "print(end1-start1)"
   ]
  },
  {
   "cell_type": "code",
   "execution_count": 42,
   "id": "bbfe5e37-5e64-4934-b346-71f1222a2011",
   "metadata": {},
   "outputs": [],
   "source": [
    "# numpy array exercises \n",
    "array= np.array(range(10,101))"
   ]
  },
  {
   "cell_type": "code",
   "execution_count": 45,
   "id": "31c7c3eb-5860-407a-a7bb-e7c370d34f61",
   "metadata": {},
   "outputs": [
    {
     "data": {
      "text/plain": [
       "array([ 10,  11,  12,  13,  14,  15,  16,  17,  18,  19,  20,  21,  22,\n",
       "        23,  24,  25,  26,  27,  28,  29,  30,  31,  32,  33,  34,  35,\n",
       "        36,  37,  38,  39,  40,  41,  42,  43,  44,  45,  46,  47,  48,\n",
       "        49,  50,  51,  52,  53,  54,  55,  56,  57,  58,  59,  60,  61,\n",
       "        62,  63,  64,  65,  66,  67,  68,  69,  70,  71,  72,  73,  74,\n",
       "        75,  76,  77,  78,  79,  80,  81,  82,  83,  84,  85,  86,  87,\n",
       "        88,  89,  90,  91,  92,  93,  94,  95,  96,  97,  98,  99, 100])"
      ]
     },
     "execution_count": 45,
     "metadata": {},
     "output_type": "execute_result"
    }
   ],
   "source": [
    "array"
   ]
  },
  {
   "cell_type": "code",
   "execution_count": 46,
   "id": "37a5dd17-7980-49c2-8174-8f700b4539b4",
   "metadata": {},
   "outputs": [
    {
     "name": "stdout",
     "output_type": "stream",
     "text": [
      "8000056\n"
     ]
    }
   ],
   "source": [
    "size=1000_000\n",
    "list= list(range(size))\n",
    "print(sys.getsizeof(list))"
   ]
  },
  {
   "cell_type": "code",
   "execution_count": 47,
   "id": "03ebd590-db45-4e35-be5b-52f7d04076d3",
   "metadata": {},
   "outputs": [
    {
     "data": {
      "text/plain": [
       "4000000"
      ]
     },
     "execution_count": 47,
     "metadata": {},
     "output_type": "execute_result"
    }
   ],
   "source": [
    "array= np.array(list)\n",
    "array.nbytes"
   ]
  },
  {
   "cell_type": "code",
   "execution_count": null,
   "id": "54c09e81-aad0-4e92-a9db-1fb0375f8b90",
   "metadata": {},
   "outputs": [],
   "source": []
  }
 ],
 "metadata": {
  "kernelspec": {
   "display_name": "Python [conda env:base] *",
   "language": "python",
   "name": "conda-base-py"
  },
  "language_info": {
   "codemirror_mode": {
    "name": "ipython",
    "version": 3
   },
   "file_extension": ".py",
   "mimetype": "text/x-python",
   "name": "python",
   "nbconvert_exporter": "python",
   "pygments_lexer": "ipython3",
   "version": "3.12.7"
  }
 },
 "nbformat": 4,
 "nbformat_minor": 5
}
