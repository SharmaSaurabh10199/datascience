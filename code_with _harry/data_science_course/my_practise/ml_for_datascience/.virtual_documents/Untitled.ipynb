from sklearn.tree import DecisionTreeClassifier


# features for apple and the orange 
features = [
    [150, 0],  # Apple
    [170, 0],  # Apple
    [130, 1],  # Orange
    [120, 1],  # Orange
]
labels = ["apple", "apple", "orange", "orange"]


clf= DecisionTreeClassifier()


model= clf.fit(features,labels)


model.predict([[120,1]])



