{
 "cells": [
  {
   "cell_type": "code",
   "execution_count": 1,
   "id": "d7ade203-9c32-42ba-bf97-2ee45314d5cb",
   "metadata": {},
   "outputs": [
    {
     "name": "stdout",
     "output_type": "stream",
     "text": [
      "Collecting sci-kit\n",
      "  Downloading sci_kit-0.1.0-py3-none-any.whl.metadata (631 bytes)\n",
      "Collecting learn\n",
      "  Downloading learn-1.0.0.zip (818 bytes)\n",
      "  Preparing metadata (setup.py): started\n",
      "  Preparing metadata (setup.py): finished with status 'done'\n",
      "Requirement already satisfied: pandas in c:\\users\\sharma\\anaconda3\\lib\\site-packages (from sci-kit) (2.2.2)\n",
      "Requirement already satisfied: numpy>=1.26.0 in c:\\users\\sharma\\anaconda3\\lib\\site-packages (from pandas->sci-kit) (1.26.4)\n",
      "Requirement already satisfied: python-dateutil>=2.8.2 in c:\\users\\sharma\\anaconda3\\lib\\site-packages (from pandas->sci-kit) (2.9.0.post0)\n",
      "Requirement already satisfied: pytz>=2020.1 in c:\\users\\sharma\\anaconda3\\lib\\site-packages (from pandas->sci-kit) (2024.1)\n",
      "Requirement already satisfied: tzdata>=2022.7 in c:\\users\\sharma\\anaconda3\\lib\\site-packages (from pandas->sci-kit) (2023.3)\n",
      "Requirement already satisfied: six>=1.5 in c:\\users\\sharma\\anaconda3\\lib\\site-packages (from python-dateutil>=2.8.2->pandas->sci-kit) (1.16.0)\n",
      "Downloading sci_kit-0.1.0-py3-none-any.whl (3.2 kB)\n",
      "Building wheels for collected packages: learn\n",
      "  Building wheel for learn (setup.py): started\n",
      "  Building wheel for learn (setup.py): finished with status 'done'\n",
      "  Created wheel for learn: filename=learn-1.0.0-py3-none-any.whl size=1235 sha256=437d2b1770a788bd91fca6dea2b34a07dcce1b282218d87f6c9e728558e7b4c7\n",
      "  Stored in directory: c:\\users\\sharma\\appdata\\local\\pip\\cache\\wheels\\07\\46\\4f\\59633ae06635ca5d36a42e6c3a2043bf1e4cdd351e6dbb39aa\n",
      "Successfully built learn\n",
      "Installing collected packages: learn, sci-kit\n",
      "Successfully installed learn-1.0.0 sci-kit-0.1.0\n",
      "Note: you may need to restart the kernel to use updated packages.\n"
     ]
    }
   ],
   "source": [
    "pip install sci-kit learn "
   ]
  },
  {
   "cell_type": "code",
   "execution_count": 2,
   "id": "e38dce49-d925-4f49-8356-200170cde1f6",
   "metadata": {},
   "outputs": [
    {
     "name": "stdout",
     "output_type": "stream",
     "text": [
      "Requirement already satisfied: scikit-learn in c:\\users\\sharma\\anaconda3\\lib\\site-packages (1.5.1)\n",
      "Requirement already satisfied: numpy>=1.19.5 in c:\\users\\sharma\\anaconda3\\lib\\site-packages (from scikit-learn) (1.26.4)\n",
      "Requirement already satisfied: scipy>=1.6.0 in c:\\users\\sharma\\anaconda3\\lib\\site-packages (from scikit-learn) (1.13.1)\n",
      "Requirement already satisfied: joblib>=1.2.0 in c:\\users\\sharma\\anaconda3\\lib\\site-packages (from scikit-learn) (1.4.2)\n",
      "Requirement already satisfied: threadpoolctl>=3.1.0 in c:\\users\\sharma\\anaconda3\\lib\\site-packages (from scikit-learn) (3.5.0)\n",
      "Note: you may need to restart the kernel to use updated packages.\n"
     ]
    }
   ],
   "source": [
    "pip install scikit-learn\n"
   ]
  }
 ],
 "metadata": {
  "kernelspec": {
   "display_name": "Python [conda env:base] *",
   "language": "python",
   "name": "conda-base-py"
  },
  "language_info": {
   "codemirror_mode": {
    "name": "ipython",
    "version": 3
   },
   "file_extension": ".py",
   "mimetype": "text/x-python",
   "name": "python",
   "nbconvert_exporter": "python",
   "pygments_lexer": "ipython3",
   "version": "3.12.7"
  }
 },
 "nbformat": 4,
 "nbformat_minor": 5
}
