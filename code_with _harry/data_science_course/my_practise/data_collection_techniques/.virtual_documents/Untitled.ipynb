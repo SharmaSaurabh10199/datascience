from bs4 import BeautifulSoup
import requests




with open ('html/page-3.html') as f:
    html_content= f.read()
    print(f.read())


print(html_content[:100])


soup=BeautifulSoup(html_content, "html.parser")



html_content



ps=soup.find('p')
ps
print(ps)


pip install beautifulsoup4 lxml


# find all the titles of the books and their prioces ]
items=[]
articles= soup.select("article.product_pod")
for article in articles: 
    heading= article.find("h3").find("a").get("title")
    price= article.select_one("p.price_color").text.split("£")[1]
    t=  article.select_one("p.star-rating")
    # print(t)
    cl= t.get('class')[1]
    # print(cl)
    items.append([heading,price,cl])
    # print(heading)
    # print(price)




items





