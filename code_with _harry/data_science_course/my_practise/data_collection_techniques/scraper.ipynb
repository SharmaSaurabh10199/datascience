{
 "cells": [
  {
   "cell_type": "code",
   "execution_count": 15,
   "id": "2ea68ba5-5537-425e-9e64-2a9c192de6c9",
   "metadata": {},
   "outputs": [],
   "source": [
    "from bs4 import BeautifulSoup\n",
    "import requests\n",
    "\n"
   ]
  },
  {
   "cell_type": "code",
   "execution_count": 28,
   "id": "9ef73132-4d92-471e-9a8e-8dc6fe51f8e7",
   "metadata": {},
   "outputs": [
    {
     "name": "stdout",
     "output_type": "stream",
     "text": [
      "\n"
     ]
    }
   ],
   "source": [
    "with open ('html/page-3.html') as f:\n",
    "    html_content= f.read()\n",
    "    print(f.read())"
   ]
  },
  {
   "cell_type": "code",
   "execution_count": 31,
   "id": "1a3684e5-4c23-425e-b52f-349cac6491b0",
   "metadata": {},
   "outputs": [
    {
     "name": "stdout",
     "output_type": "stream",
     "text": [
      "\n",
      "\n",
      "<!DOCTYPE html>\n",
      "<!--[if lt IE 7]>      <html lang=\"en-us\" class=\"no-js lt-ie9 lt-ie8 lt-ie7\"> <![e\n"
     ]
    }
   ],
   "source": [
    "print(html_content[:100])"
   ]
  },
  {
   "cell_type": "code",
   "execution_count": 34,
   "id": "7a73b4fc-4dea-4450-8bb1-f33f90f8485f",
   "metadata": {},
   "outputs": [],
   "source": [
    "soup=BeautifulSoup(html_content, \"html.parser\")\n"
   ]
  },
  {
   "cell_type": "code",
   "execution_count": 21,
   "id": "3270a52e-9a1c-43a5-bf0a-615ac55a4d4b",
   "metadata": {},
   "outputs": [
    {
     "data": {
      "text/plain": [
       "'<html>\\n\\n<head><title>404 Not Found</title></head>\\n\\n<body>\\n\\n<center><h1>404 Not Found</h1></center>\\n\\n<hr><center>nginx/1.21.6</center>\\n\\n</body>\\n\\n</html>\\n\\n'"
      ]
     },
     "execution_count": 21,
     "metadata": {},
     "output_type": "execute_result"
    }
   ],
   "source": [
    "html_content\n"
   ]
  },
  {
   "cell_type": "code",
   "execution_count": 35,
   "id": "cd366660-4fbc-4a3a-af99-3e8f105318ca",
   "metadata": {},
   "outputs": [
    {
     "name": "stdout",
     "output_type": "stream",
     "text": [
      "<p class=\"star-rating Three\">\n",
      "<i class=\"icon-star\"></i>\n",
      "<i class=\"icon-star\"></i>\n",
      "<i class=\"icon-star\"></i>\n",
      "<i class=\"icon-star\"></i>\n",
      "<i class=\"icon-star\"></i>\n",
      "</p>\n"
     ]
    }
   ],
   "source": [
    "ps=soup.find('p')\n",
    "ps\n",
    "print(ps)"
   ]
  },
  {
   "cell_type": "code",
   "execution_count": 18,
   "id": "4886b985-f502-4323-9ea3-759ce4127b12",
   "metadata": {},
   "outputs": [
    {
     "name": "stdout",
     "output_type": "stream",
     "text": [
      "Requirement already satisfied: beautifulsoup4 in c:\\users\\sharma\\anaconda3\\lib\\site-packages (4.12.3)Note: you may need to restart the kernel to use updated packages.\n",
      "\n",
      "Requirement already satisfied: lxml in c:\\users\\sharma\\anaconda3\\lib\\site-packages (5.2.1)\n",
      "Requirement already satisfied: soupsieve>1.2 in c:\\users\\sharma\\anaconda3\\lib\\site-packages (from beautifulsoup4) (2.5)\n"
     ]
    }
   ],
   "source": [
    "pip install beautifulsoup4 lxml"
   ]
  },
  {
   "cell_type": "code",
   "execution_count": 62,
   "id": "ffcd8571-0705-4ef0-b849-908b2abe4cdd",
   "metadata": {},
   "outputs": [],
   "source": [
    "# find all the titles of the books and their prioces ]\n",
    "items=[]\n",
    "articles= soup.select(\"article.product_pod\")\n",
    "for article in articles: \n",
    "    heading= article.find(\"h3\").find(\"a\").get(\"title\")\n",
    "    price= article.select_one(\"p.price_color\").text.split(\"£\")[1]\n",
    "    t=  article.select_one(\"p.star-rating\")\n",
    "    # print(t)\n",
    "    cl= t.get('class')[1]\n",
    "    # print(cl)\n",
    "    items.append([heading,price,cl])\n",
    "    # print(heading)\n",
    "    # print(price)\n",
    "\n"
   ]
  },
  {
   "cell_type": "code",
   "execution_count": 63,
   "id": "4bd32c1a-3cc7-4448-8907-e6cf35041e90",
   "metadata": {},
   "outputs": [
    {
     "data": {
      "text/plain": [
       "[['Slow States of Collapse: Poems', '57.31', 'Three'],\n",
       " ['Reasons to Stay Alive', '26.41', 'Two'],\n",
       " ['Private Paris (Private #10)', '47.61', 'Five'],\n",
       " ['#HigherSelfie: Wake Up Your Life. Free Your Soul. Find Your Tribe.',\n",
       "  '23.11',\n",
       "  'Five'],\n",
       " ['Without Borders (Wanderlove #1)', '45.07', 'Two'],\n",
       " ['When We Collided', '31.77', 'One'],\n",
       " ['We Love You, Charlie Freeman', '50.27', 'Five'],\n",
       " ['Untitled Collection: Sabbath Poems 2014', '14.27', 'Four'],\n",
       " ['Unseen City: The Majesty of Pigeons, the Discreet Charm of Snails & Other Wonders of the Urban Wilderness',\n",
       "  '44.18',\n",
       "  'Four'],\n",
       " ['Unicorn Tracks', '18.78', 'Three'],\n",
       " ['Unbound: How Eight Technologies Made Us Human, Transformed Society, and Brought Our World to the Brink',\n",
       "  '25.52',\n",
       "  'One'],\n",
       " ['Tsubasa: WoRLD CHRoNiCLE 2 (Tsubasa WoRLD CHRoNiCLE #2)', '16.28', 'One'],\n",
       " ['Throwing Rocks at the Google Bus: How Growth Became the Enemy of Prosperity',\n",
       "  '31.12',\n",
       "  'Three'],\n",
       " ['This One Summer', '19.49', 'Four'],\n",
       " ['Thirst', '17.27', 'Five'],\n",
       " ['The Torch Is Passed: A Harding Family Story', '19.09', 'One'],\n",
       " ['The Secret of Dreadwillow Carse', '56.13', 'One'],\n",
       " ['The Pioneer Woman Cooks: Dinnertime: Comfort Classics, Freezer Food, 16-Minute Meals, and Other Delicious Ways to Solve Supper!',\n",
       "  '56.41',\n",
       "  'One'],\n",
       " ['The Past Never Ends', '56.50', 'Four'],\n",
       " ['The Natural History of Us (The Fine Art of Pretending #2)',\n",
       "  '45.22',\n",
       "  'Three']]"
      ]
     },
     "execution_count": 63,
     "metadata": {},
     "output_type": "execute_result"
    }
   ],
   "source": [
    "items\n",
    "\n"
   ]
  },
  {
   "cell_type": "code",
   "execution_count": null,
   "id": "94d96b1c-ae94-4a99-9665-984b11f1c1f4",
   "metadata": {},
   "outputs": [],
   "source": []
  }
 ],
 "metadata": {
  "kernelspec": {
   "display_name": "Python [conda env:base] *",
   "language": "python",
   "name": "conda-base-py"
  },
  "language_info": {
   "codemirror_mode": {
    "name": "ipython",
    "version": 3
   },
   "file_extension": ".py",
   "mimetype": "text/x-python",
   "name": "python",
   "nbconvert_exporter": "python",
   "pygments_lexer": "ipython3",
   "version": "3.12.7"
  }
 },
 "nbformat": 4,
 "nbformat_minor": 5
}
