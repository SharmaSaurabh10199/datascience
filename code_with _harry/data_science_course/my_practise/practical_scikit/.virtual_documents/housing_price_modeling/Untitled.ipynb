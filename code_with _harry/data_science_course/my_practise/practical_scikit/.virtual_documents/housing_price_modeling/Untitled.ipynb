# im this file we will do the exploratory analysis 
import pandas as pd


# load the dataset 
df=pd.read_csv('housing.csv')
df.head()


df.tail()


# to look for different statistical terms 
df.describe()


df['ocean_proximity'].value_counts()


# to check for the missing values 
df.info()


# plots of the features 
import matplotlib.pyplot as plt



