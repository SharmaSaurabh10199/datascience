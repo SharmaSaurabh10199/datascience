# import the random forest for classification 
from sklearn.ensemble import RandomForestClassifier
import pandas as pd


# read the dataset 
iris_df= pd.read_excel("iris-train.xlsx")
iris_df.head()



# segrigate the features and the target 
features_df= iris_df.iloc[:,:-1]
features_df.head()
target_df=  iris_df.iloc[:,-1]
target_df.head()


# train the model from train dataset 
model= RandomForestClassifier()
model.fit(features_df,target_df)




# predict the data on the basis of test data 
test_df= pd.read_excel('iris-test.xlsx')
test_df_target=test_df.iloc[:,-1]
test_ft_features= test_df.iloc[:,:-1]
predicted= model.predict(test_ft_features)
print(predicted)


# actual target
test_df_target


# check the accuracy of our model : you can also change the models and verify the accuracy for them which is more accurate 
count=0
for i in range(len(predicted)):
    if(predicted[i]==test_df_target[i]):
        count+=1
print(count/len(predicted)*100)



